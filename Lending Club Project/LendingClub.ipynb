{
 "cells": [
  {
   "cell_type": "markdown",
   "metadata": {},
   "source": [
    "# Lending Club Project"
   ]
  },
  {
   "cell_type": "markdown",
   "metadata": {},
   "source": [
    "As a capstone for a Data Science course, I studied a subset of the LendingClub DataSet obtained from Kaggle: https://www.kaggle.com/wordsforthewise/lending-club\n",
    "\n",
    "#### About LendingClub\n",
    "\n",
    "LendingClub is a US peer-to-peer lending company, headquartered in San Francisco, California. It was the first peer-to-peer lender to register its offerings as securities with the Securities and Exchange Commission (SEC), and to offer loan trading on a secondary market. LendingClub is the world's largest peer-to-peer lending platform.\n",
    "\n",
    "#### Our Goal\n",
    "\n",
    "Given historical data on loans given out with information on whether or not the borrower defaulted (charge-off), can we build a model that can predict whether or nor a future borrower will pay back their loan? This way in the future when we get a new potential customer we can assess whether or not they are likely to pay back the loan. \n",
    "\n",
    "The \"loan_status\" column contains our label.\n",
    "\n",
    "\n",
    "### Sections:\n",
    "1. [Loading Packages and Files](#Loading-Packages-and-Files)\n",
    "2. [Preprocessing](#Preprocessing) <br>\n",
    "    2.1 [Missing Data](#Missing-Data) <br>\n",
    "    2.2 [Categorical Variables](#Categorical-Variables) <br>\n",
    "3. [Feature Selection](#Feature-Selection)\n",
    "4. [Modeling](#Modeling) <br>\n",
    "    4.1 [Grid Search](#Grid-Search) <br>\n",
    "    4.2 [Neural Network](#Neural-Network)\n"
   ]
  },
  {
   "cell_type": "markdown",
   "metadata": {},
   "source": [
    "## Loading Packages and Files\n",
    "\n",
    "We start loading the following standard libraries:"
   ]
  },
  {
   "cell_type": "code",
   "execution_count": 1,
   "metadata": {},
   "outputs": [],
   "source": [
    "import pandas as pd\n",
    "import numpy as np\n",
    "import seaborn as sns\n",
    "import matplotlib.pyplot as plt\n",
    "%matplotlib inline\n",
    "sns.set()\n",
    "\n",
    "#for splitting training and test data\n",
    "RANDOM_STATE = 14"
   ]
  },
  {
   "cell_type": "markdown",
   "metadata": {},
   "source": [
    "Now we load the data:"
   ]
  },
  {
   "cell_type": "code",
   "execution_count": 2,
   "metadata": {},
   "outputs": [],
   "source": [
    "#extract the data from RAR first\n",
    "df = pd.read_csv(r'./DATA/lending_club_loan.csv')\n",
    "# the df_info contains the information on this particular data set:\n",
    "df_info = pd.read_csv(r'./DATA/lending_club_info.csv',index_col='LoanStatNew')\n",
    "\n",
    "# for an easy access to the info\n",
    "def feat_info(col_name):\n",
    "    print(df_info.loc[col_name]['Description'])"
   ]
  },
  {
   "cell_type": "markdown",
   "metadata": {},
   "source": [
    "Some basic info about our dataframe:"
   ]
  },
  {
   "cell_type": "code",
   "execution_count": 3,
   "metadata": {},
   "outputs": [
    {
     "name": "stdout",
     "output_type": "stream",
     "text": [
      "<class 'pandas.core.frame.DataFrame'>\n",
      "RangeIndex: 396030 entries, 0 to 396029\n",
      "Data columns (total 27 columns):\n",
      " #   Column                Non-Null Count   Dtype  \n",
      "---  ------                --------------   -----  \n",
      " 0   loan_amnt             396030 non-null  float64\n",
      " 1   term                  396030 non-null  object \n",
      " 2   int_rate              396030 non-null  float64\n",
      " 3   installment           396030 non-null  float64\n",
      " 4   grade                 396030 non-null  object \n",
      " 5   sub_grade             396030 non-null  object \n",
      " 6   emp_title             373103 non-null  object \n",
      " 7   emp_length            377729 non-null  object \n",
      " 8   home_ownership        396030 non-null  object \n",
      " 9   annual_inc            396030 non-null  float64\n",
      " 10  verification_status   396030 non-null  object \n",
      " 11  issue_d               396030 non-null  object \n",
      " 12  loan_status           396030 non-null  object \n",
      " 13  purpose               396030 non-null  object \n",
      " 14  title                 394275 non-null  object \n",
      " 15  dti                   396030 non-null  float64\n",
      " 16  earliest_cr_line      396030 non-null  object \n",
      " 17  open_acc              396030 non-null  float64\n",
      " 18  pub_rec               396030 non-null  float64\n",
      " 19  revol_bal             396030 non-null  float64\n",
      " 20  revol_util            395754 non-null  float64\n",
      " 21  total_acc             396030 non-null  float64\n",
      " 22  initial_list_status   396030 non-null  object \n",
      " 23  application_type      396030 non-null  object \n",
      " 24  mort_acc              358235 non-null  float64\n",
      " 25  pub_rec_bankruptcies  395495 non-null  float64\n",
      " 26  address               396030 non-null  object \n",
      "dtypes: float64(12), object(15)\n",
      "memory usage: 81.6+ MB\n"
     ]
    }
   ],
   "source": [
    "df.info()"
   ]
  },
  {
   "cell_type": "markdown",
   "metadata": {},
   "source": [
    "We see that we have a few columns with missing data... We're going to tackle this problem shortly.\n",
    "\n",
    "Before that, we are going to explore our data."
   ]
  },
  {
   "cell_type": "markdown",
   "metadata": {
    "slideshow": {
     "slide_type": "subslide"
    }
   },
   "source": [
    "## Exploratory Data Analysis"
   ]
  },
  {
   "cell_type": "markdown",
   "metadata": {},
   "source": [
    "First, let's see our target feature:"
   ]
  },
  {
   "cell_type": "code",
   "execution_count": 4,
   "metadata": {},
   "outputs": [
    {
     "data": {
      "text/plain": [
       "<matplotlib.axes._subplots.AxesSubplot at 0x26f21aa6b20>"
      ]
     },
     "execution_count": 4,
     "metadata": {},
     "output_type": "execute_result"
    },
    {
     "data": {
      "image/png": "[encoded data removed]",
      "text/plain": [
       "<Figure size 864x576 with 1 Axes>"
      ]
     },
     "metadata": {},
     "output_type": "display_data"
    }
   ],
   "source": [
    "plt.figure(figsize=(12,8))\n",
    "sns.countplot(df['loan_status'])"
   ]
  },
  {
   "cell_type": "code",
   "execution_count": 5,
   "metadata": {},
   "outputs": [
    {
     "name": "stdout",
     "output_type": "stream",
     "text": [
      "Percentage of Fully Paid loans: 80.39%\n"
     ]
    }
   ],
   "source": [
    "print('Percentage of Fully Paid loans: {:.2%}'.format((df[df['loan_status'] == 'Fully Paid'].shape[0])/(df.shape[0])))"
   ]
  },
  {
   "cell_type": "markdown",
   "metadata": {},
   "source": [
    "We see that we have way more 'Fully Paid' labels than 'Charged Off' (80,39% to 19,61%). So whatever model we choose, we have to take this into account (since our model will probably be more 'biased' towards the 'Fully Paid' category)\n",
    "\n",
    "Lets now explore the features of our dataset. Of all the columns, we start with the one that we think is the most correlated with our target: the 'Grade' column."
   ]
  },
  {
   "cell_type": "code",
   "execution_count": 6,
   "metadata": {
    "scrolled": false
   },
   "outputs": [
    {
     "data": {
      "text/plain": [
       "<matplotlib.axes._subplots.AxesSubplot at 0x26f22891490>"
      ]
     },
     "execution_count": 6,
     "metadata": {},
     "output_type": "execute_result"
    },
    {
     "data": {
      "image/png": "[encoded data removed]",
      "text/plain": [
       "<Figure size 864x576 with 1 Axes>"
      ]
     },
     "metadata": {},
     "output_type": "display_data"
    }
   ],
   "source": [
    "plt.figure(figsize=(12,8))\n",
    "sns.countplot(x=df['grade'], order=sorted(df['grade'].unique()), hue=df['loan_status'])"
   ]
  },
  {
   "cell_type": "markdown",
   "metadata": {},
   "source": [
    "We see that the grade seems to be well-correlated with the target variable: as the grade goes down, more defaults ('Charged Off') we have (proportionally).\n",
    "\n",
    "Before we do another graph to attest our suspicions, let's see the distribution of sub-grades:"
   ]
  },
  {
   "cell_type": "code",
   "execution_count": 7,
   "metadata": {
    "scrolled": false
   },
   "outputs": [
    {
     "data": {
      "text/plain": [
       "<matplotlib.axes._subplots.AxesSubplot at 0x26f2235d430>"
      ]
     },
     "execution_count": 7,
     "metadata": {},
     "output_type": "execute_result"
    },
    {
     "data": {
      "image/png": "[encoded data removed]",
      "text/plain": [
       "<Figure size 864x576 with 1 Axes>"
      ]
     },
     "metadata": {},
     "output_type": "display_data"
    }
   ],
   "source": [
    "plt.figure(figsize=(12,8))\n",
    "sns.countplot(x=df['sub_grade'],order = sorted(df['sub_grade'].unique()), palette='coolwarm')"
   ]
  },
  {
   "cell_type": "code",
   "execution_count": 8,
   "metadata": {
    "scrolled": false
   },
   "outputs": [
    {
     "data": {
      "text/plain": [
       "<matplotlib.axes._subplots.AxesSubplot at 0x26f20aa9280>"
      ]
     },
     "execution_count": 8,
     "metadata": {},
     "output_type": "execute_result"
    },
    {
     "data": {
      "image/png": "[encoded data removed]",
      "text/plain": [
       "<Figure size 864x576 with 1 Axes>"
      ]
     },
     "metadata": {},
     "output_type": "display_data"
    }
   ],
   "source": [
    "plt.figure(figsize=(12,8))\n",
    "sns.countplot(x=df['sub_grade'],order = sorted(df['sub_grade'].unique()), hue=df['loan_status'], palette='coolwarm')"
   ]
  },
  {
   "cell_type": "markdown",
   "metadata": {},
   "source": [
    "We see that the correlation between the target variable and the 'Sub-Grade' also exists (just like the 'Grade' variable and the target). That is not surprising at all, since the 'Sub-Grade' is a subset (in some sense) of the 'Grade' variable.\n",
    "\n",
    "We now see the proportion of defaults per sub-grade:"
   ]
  },
  {
   "cell_type": "code",
   "execution_count": 9,
   "metadata": {
    "scrolled": true
   },
   "outputs": [
    {
     "data": {
      "text/plain": [
       "<matplotlib.axes._subplots.AxesSubplot at 0x26f24aee0a0>"
      ]
     },
     "execution_count": 9,
     "metadata": {},
     "output_type": "execute_result"
    },
    {
     "data": {
      "image/png": "[encoded data removed]",
      "text/plain": [
       "<Figure size 864x576 with 1 Axes>"
      ]
     },
     "metadata": {},
     "output_type": "display_data"
    }
   ],
   "source": [
    "sub_g = df.groupby('sub_grade').count()['term']\n",
    "sub_g_def = df[df['loan_status'] == 'Charged Off'].groupby('sub_grade').count()['term']\n",
    "\n",
    "plt.figure(figsize=(12,8))\n",
    "sns.barplot(x = (sub_g_def/sub_g).index, y = (sub_g_def/sub_g).values, color=sns.color_palette()[0])"
   ]
  },
  {
   "cell_type": "markdown",
   "metadata": {},
   "source": [
    "We now clearly see how the defaults rise as the sub-grade goes down, confirming our suspicions.\n",
    "\n",
    "Next, we look at the 'Loan Amount':"
   ]
  },
  {
   "cell_type": "code",
   "execution_count": 10,
   "metadata": {},
   "outputs": [
    {
     "data": {
      "text/plain": [
       "<matplotlib.axes._subplots.AxesSubplot at 0x26f24954430>"
      ]
     },
     "execution_count": 10,
     "metadata": {},
     "output_type": "execute_result"
    },
    {
     "data": {
      "image/png": "[encoded data removed]",
      "text/plain": [
       "<Figure size 864x576 with 1 Axes>"
      ]
     },
     "metadata": {},
     "output_type": "display_data"
    }
   ],
   "source": [
    "plt.figure(figsize=(12,8))\n",
    "sns.boxplot(x='loan_status',y='loan_amnt',data=df)"
   ]
  },
  {
   "cell_type": "markdown",
   "metadata": {},
   "source": [
    "We see that both categories have similar behaviour regarding the loan_amount - so it is likely that this feature is not well correlated.\n",
    "\n",
    "Next we look at the Home Ownership:"
   ]
  },
  {
   "cell_type": "code",
   "execution_count": 11,
   "metadata": {
    "scrolled": true
   },
   "outputs": [
    {
     "data": {
      "text/plain": [
       "<matplotlib.axes._subplots.AxesSubplot at 0x26f24da5ca0>"
      ]
     },
     "execution_count": 11,
     "metadata": {},
     "output_type": "execute_result"
    },
    {
     "data": {
      "image/png": "[encoded data removed]",
      "text/plain": [
       "<Figure size 864x576 with 1 Axes>"
      ]
     },
     "metadata": {},
     "output_type": "display_data"
    }
   ],
   "source": [
    "plt.figure(figsize=(12,8))\n",
    "sns.countplot(x=df['home_ownership'], hue=df['loan_status'])"
   ]
  },
  {
   "cell_type": "markdown",
   "metadata": {},
   "source": [
    "We notice that we have three categories that have very few data, so we'll probably look to join them all in a single one when we do our cleaning.\n",
    "\n",
    "We cannot infer too much about the behaviour of our target with respect to the first three categories without doing some proportions. Since this is not our focus, we'll skip this.\n",
    "\n",
    "Let's look now at the 'open_acc' column: a column which has the number of open credit lines in the borrower's credit file."
   ]
  },
  {
   "cell_type": "code",
   "execution_count": 12,
   "metadata": {},
   "outputs": [
    {
     "data": {
      "text/plain": [
       "[Text(0, 0, '0.0'),\n",
       " Text(0, 0, '1.0'),\n",
       " Text(0, 0, '2.0'),\n",
       " Text(0, 0, '3.0'),\n",
       " Text(0, 0, '4.0'),\n",
       " Text(0, 0, '5.0'),\n",
       " Text(0, 0, '6.0'),\n",
       " Text(0, 0, '7.0'),\n",
       " Text(0, 0, '8.0'),\n",
       " Text(0, 0, '9.0'),\n",
       " Text(0, 0, '10.0'),\n",
       " Text(0, 0, '11.0'),\n",
       " Text(0, 0, '12.0'),\n",
       " Text(0, 0, '13.0'),\n",
       " Text(0, 0, '14.0'),\n",
       " Text(0, 0, '15.0'),\n",
       " Text(0, 0, '16.0'),\n",
       " Text(0, 0, '17.0'),\n",
       " Text(0, 0, '18.0'),\n",
       " Text(0, 0, '19.0'),\n",
       " Text(0, 0, '20.0'),\n",
       " Text(0, 0, '21.0'),\n",
       " Text(0, 0, '22.0'),\n",
       " Text(0, 0, '23.0'),\n",
       " Text(0, 0, '24.0'),\n",
       " Text(0, 0, '25.0'),\n",
       " Text(0, 0, '26.0'),\n",
       " Text(0, 0, '27.0'),\n",
       " Text(0, 0, '28.0'),\n",
       " Text(0, 0, '29.0'),\n",
       " Text(0, 0, '30.0'),\n",
       " Text(0, 0, '31.0'),\n",
       " Text(0, 0, '32.0'),\n",
       " Text(0, 0, '33.0'),\n",
       " Text(0, 0, '34.0'),\n",
       " Text(0, 0, '35.0'),\n",
       " Text(0, 0, '36.0'),\n",
       " Text(0, 0, '37.0'),\n",
       " Text(0, 0, '38.0'),\n",
       " Text(0, 0, '39.0'),\n",
       " Text(0, 0, '40.0'),\n",
       " Text(0, 0, '41.0'),\n",
       " Text(0, 0, '42.0'),\n",
       " Text(0, 0, '43.0'),\n",
       " Text(0, 0, '44.0'),\n",
       " Text(0, 0, '45.0'),\n",
       " Text(0, 0, '46.0'),\n",
       " Text(0, 0, '47.0'),\n",
       " Text(0, 0, '48.0'),\n",
       " Text(0, 0, '49.0'),\n",
       " Text(0, 0, '50.0'),\n",
       " Text(0, 0, '51.0'),\n",
       " Text(0, 0, '52.0'),\n",
       " Text(0, 0, '53.0'),\n",
       " Text(0, 0, '54.0'),\n",
       " Text(0, 0, '55.0'),\n",
       " Text(0, 0, '56.0'),\n",
       " Text(0, 0, '57.0'),\n",
       " Text(0, 0, '58.0'),\n",
       " Text(0, 0, '76.0'),\n",
       " Text(0, 0, '90.0')]"
      ]
     },
     "execution_count": 12,
     "metadata": {},
     "output_type": "execute_result"
    },
    {
     "data": {
      "image/png": "[encoded data removed]",
      "text/plain": [
       "<Figure size 864x576 with 1 Axes>"
      ]
     },
     "metadata": {},
     "output_type": "display_data"
    }
   ],
   "source": [
    "plt.figure(figsize=(12,8))\n",
    "g = sns.countplot(x=df['open_acc'], hue=df['loan_status'])\n",
    "g.set_xticklabels(g.get_xticklabels(), rotation = 90)"
   ]
  },
  {
   "cell_type": "markdown",
   "metadata": {},
   "source": [
    "We see that we have a few outliers and probably the proportion is rising (as the 'open_acc' rises). Again, we'd need to make another graph to confirm this correlation - but we'll not make it.\n",
    "\n",
    "Now, for employment length:"
   ]
  },
  {
   "cell_type": "code",
   "execution_count": 13,
   "metadata": {},
   "outputs": [
    {
     "data": {
      "image/png": "[encoded data removed]",
      "text/plain": [
       "<Figure size 864x576 with 1 Axes>"
      ]
     },
     "metadata": {},
     "output_type": "display_data"
    }
   ],
   "source": [
    "emp_order = ['< 1 year', '1 year'] + [str(num) + ' years' for num in range(2,10)] + ['10+ years']\n",
    "plt.figure(figsize=(12,8))\n",
    "sns.countplot(x=df['emp_length'], hue=df['loan_status'], order = emp_order)\n",
    "plt.show()"
   ]
  },
  {
   "cell_type": "markdown",
   "metadata": {},
   "source": [
    "We see that the proportions are mostly steady through each category; so this variable may not be useful at all.\n",
    "\n",
    "At last, we look at the Annual Income together with Loan Amount:"
   ]
  },
  {
   "cell_type": "code",
   "execution_count": 14,
   "metadata": {
    "scrolled": false
   },
   "outputs": [
    {
     "data": {
      "text/plain": [
       "<matplotlib.axes._subplots.AxesSubplot at 0x26f24999ac0>"
      ]
     },
     "execution_count": 14,
     "metadata": {},
     "output_type": "execute_result"
    },
    {
     "data": {
      "image/png": "[encoded data removed]",
      "text/plain": [
       "<Figure size 864x576 with 1 Axes>"
      ]
     },
     "metadata": {},
     "output_type": "display_data"
    }
   ],
   "source": [
    "plt.figure(figsize=(12,8))\n",
    "sns.scatterplot(x = df['annual_inc'], y=df['loan_amnt'], hue=df['loan_status'])"
   ]
  },
  {
   "cell_type": "markdown",
   "metadata": {},
   "source": [
    "We see that we have a few outliers with income greater than 200k that are 'compressing' our data. The next box plot also shows this:"
   ]
  },
  {
   "cell_type": "code",
   "execution_count": 15,
   "metadata": {
    "scrolled": true
   },
   "outputs": [
    {
     "data": {
      "text/plain": [
       "<matplotlib.axes._subplots.AxesSubplot at 0x26f25c7b460>"
      ]
     },
     "execution_count": 15,
     "metadata": {},
     "output_type": "execute_result"
    },
    {
     "data": {
      "image/png": "[encoded data removed]",
      "text/plain": [
       "<Figure size 864x576 with 1 Axes>"
      ]
     },
     "metadata": {},
     "output_type": "display_data"
    }
   ],
   "source": [
    "plt.figure(figsize=(12,8))\n",
    "sns.boxplot(df['annual_inc']) "
   ]
  },
  {
   "cell_type": "markdown",
   "metadata": {},
   "source": [
    "Based on the box-plot above, we'll stablish a 'maximum' income and see if we can safely discard these outliers (that would obviously help our model perform better)."
   ]
  },
  {
   "cell_type": "code",
   "execution_count": 16,
   "metadata": {},
   "outputs": [
    {
     "name": "stdout",
     "output_type": "stream",
     "text": [
      "Percentage of people with income greater than 150k: 5.51%\n",
      "Percentage of people with income greater than 150k that DIDN'T payed their loan: 14.21%\n"
     ]
    }
   ],
   "source": [
    "min_out_inc = 150000 #based on previous scatterplot with loan_amnt and the above boxplot\n",
    "df_out = df[df['annual_inc'] >= min_out_inc]\n",
    "print('Percentage of people with income greater than 150k: {:.2%}'.format(df_out.shape[0]/df.shape[0]))\n",
    "df_out_default = df_out[df_out['loan_status'] == 'Charged Off']\n",
    "print('Percentage of people with income greater than 150k that DIDN\\'T payed their loan: {:.2%}'.format(df_out_default.shape[0]/df_out.shape[0]))"
   ]
  },
  {
   "cell_type": "markdown",
   "metadata": {},
   "source": [
    "We see that those outliers are 5% of our data. We also see that amongst the people with an income greater than 150k, 14% defaulted their loan. This maybe seem to be too much, but it is 28,7% lower than the average for the people with an income lower than 150k (as seen below):"
   ]
  },
  {
   "cell_type": "code",
   "execution_count": 17,
   "metadata": {},
   "outputs": [
    {
     "name": "stdout",
     "output_type": "stream",
     "text": [
      "Percentage of people with income lower than 150k: 94.49%\n",
      "Percentage of people with income lower than 150k that DIDN'T payed their loan: 19.93%\n"
     ]
    }
   ],
   "source": [
    "df_in = df[df['annual_inc'] < min_out_inc]\n",
    "print('Percentage of people with income lower than 150k: {:.2%}'.format(df_in.shape[0]/df.shape[0]))\n",
    "df_in_default = df_in[df_in['loan_status'] == 'Charged Off']\n",
    "print('Percentage of people with income lower than 150k that DIDN\\'T payed their loan: {:.2%}'.format(df_in_default.shape[0]/df_in.shape[0]))"
   ]
  },
  {
   "cell_type": "markdown",
   "metadata": {},
   "source": [
    "After all, since they're so few (just 5%) and they have an average of defaults significantly lower than the rest of the population (which in turn can skew our model), we'll drop them.\n",
    "\n",
    "After dropping, we'll plot the box plot again. Notice that the box plot shape is way better now."
   ]
  },
  {
   "cell_type": "code",
   "execution_count": 18,
   "metadata": {},
   "outputs": [
    {
     "data": {
      "text/plain": [
       "<matplotlib.axes._subplots.AxesSubplot at 0x26f25a93e50>"
      ]
     },
     "execution_count": 18,
     "metadata": {},
     "output_type": "execute_result"
    },
    {
     "data": {
      "image/png": "[encoded data removed]",
      "text/plain": [
       "<Figure size 864x576 with 1 Axes>"
      ]
     },
     "metadata": {},
     "output_type": "display_data"
    }
   ],
   "source": [
    "df = df[df['annual_inc'] < min_out_inc]\n",
    "plt.figure(figsize=(12,8))\n",
    "sns.boxplot(df['annual_inc']) #way more healthier"
   ]
  },
  {
   "cell_type": "markdown",
   "metadata": {},
   "source": [
    "## Preprocessing"
   ]
  },
  {
   "cell_type": "markdown",
   "metadata": {},
   "source": [
    "We'll now deal with missing data and the categorical variables."
   ]
  },
  {
   "cell_type": "markdown",
   "metadata": {},
   "source": [
    "### Missing Data"
   ]
  },
  {
   "cell_type": "markdown",
   "metadata": {},
   "source": [
    "First, we look at which columns have missing data. Since we have over 300k entries, we'll look at the percentage of missing data:"
   ]
  },
  {
   "cell_type": "code",
   "execution_count": 19,
   "metadata": {},
   "outputs": [
    {
     "data": {
      "text/plain": [
       "loan_amnt               0.000000\n",
       "term                    0.000000\n",
       "int_rate                0.000000\n",
       "installment             0.000000\n",
       "grade                   0.000000\n",
       "sub_grade               0.000000\n",
       "emp_title               5.879854\n",
       "emp_length              4.832361\n",
       "home_ownership          0.000000\n",
       "annual_inc              0.000000\n",
       "verification_status     0.000000\n",
       "issue_d                 0.000000\n",
       "loan_status             0.000000\n",
       "purpose                 0.000000\n",
       "title                   0.445452\n",
       "dti                     0.000000\n",
       "earliest_cr_line        0.000000\n",
       "open_acc                0.000000\n",
       "pub_rec                 0.000000\n",
       "revol_bal               0.000000\n",
       "revol_util              0.064667\n",
       "total_acc               0.000000\n",
       "initial_list_status     0.000000\n",
       "application_type        0.000000\n",
       "mort_acc                9.644146\n",
       "pub_rec_bankruptcies    0.134945\n",
       "address                 0.000000\n",
       "dtype: float64"
      ]
     },
     "execution_count": 19,
     "metadata": {},
     "output_type": "execute_result"
    }
   ],
   "source": [
    "(df.isnull().sum()/len(df))*100"
   ]
  },
  {
   "cell_type": "markdown",
   "metadata": {},
   "source": [
    "Since 'pub_rec_bankruptcies', 'revol_util' and 'title' have less than 1% each of missing data, we'll drop the respective entries in which the data is missing:"
   ]
  },
  {
   "cell_type": "code",
   "execution_count": 20,
   "metadata": {
    "scrolled": true
   },
   "outputs": [
    {
     "data": {
      "text/plain": [
       "loan_amnt               0.000000\n",
       "term                    0.000000\n",
       "int_rate                0.000000\n",
       "installment             0.000000\n",
       "grade                   0.000000\n",
       "sub_grade               0.000000\n",
       "emp_title               5.849968\n",
       "emp_length              4.804015\n",
       "home_ownership          0.000000\n",
       "annual_inc              0.000000\n",
       "verification_status     0.000000\n",
       "issue_d                 0.000000\n",
       "loan_status             0.000000\n",
       "purpose                 0.000000\n",
       "title                   0.000000\n",
       "dti                     0.000000\n",
       "earliest_cr_line        0.000000\n",
       "open_acc                0.000000\n",
       "pub_rec                 0.000000\n",
       "revol_bal               0.000000\n",
       "revol_util              0.000000\n",
       "total_acc               0.000000\n",
       "initial_list_status     0.000000\n",
       "application_type        0.000000\n",
       "mort_acc                9.553971\n",
       "pub_rec_bankruptcies    0.000000\n",
       "address                 0.000000\n",
       "dtype: float64"
      ]
     },
     "execution_count": 20,
     "metadata": {},
     "output_type": "execute_result"
    }
   ],
   "source": [
    "df = df.dropna(subset=['pub_rec_bankruptcies', 'revol_util','title'])\n",
    "#again\n",
    "(df.isnull().sum()/len(df))*100"
   ]
  },
  {
   "cell_type": "markdown",
   "metadata": {},
   "source": [
    "We'll now deal with 'mort_acc'. Per df_info, 'mort_acc' is the number of mortgage accounts of that client. We'll look at which other columns can help us fill the missing 10% data:"
   ]
  },
  {
   "cell_type": "code",
   "execution_count": 21,
   "metadata": {},
   "outputs": [
    {
     "name": "stdout",
     "output_type": "stream",
     "text": [
      "int_rate               -0.079035\n",
      "dti                    -0.015692\n",
      "revol_util              0.003252\n",
      "pub_rec                 0.018588\n",
      "pub_rec_bankruptcies    0.038292\n",
      "open_acc                0.097058\n",
      "installment             0.169279\n",
      "revol_bal               0.197287\n",
      "loan_amnt               0.199588\n",
      "annual_inc              0.328114\n",
      "total_acc               0.370739\n",
      "mort_acc                1.000000\n",
      "Name: mort_acc, dtype: float64\n"
     ]
    }
   ],
   "source": [
    "print(df.corr()['mort_acc'].sort_values())"
   ]
  },
  {
   "cell_type": "markdown",
   "metadata": {},
   "source": [
    "Since 'total_acc' is the column in which 'mort_acc' is most correlated, we'll use this info to fill the 'mort_acc' column:"
   ]
  },
  {
   "cell_type": "code",
   "execution_count": 22,
   "metadata": {},
   "outputs": [
    {
     "data": {
      "text/plain": [
       "total_acc\n",
       "2.0      0.000000\n",
       "3.0      0.053571\n",
       "4.0      0.065728\n",
       "5.0      0.100134\n",
       "6.0      0.148899\n",
       "           ...   \n",
       "116.0    1.000000\n",
       "117.0    0.000000\n",
       "118.0    1.000000\n",
       "124.0    1.000000\n",
       "135.0    3.000000\n",
       "Name: mort_acc, Length: 113, dtype: float64"
      ]
     },
     "execution_count": 22,
     "metadata": {},
     "output_type": "execute_result"
    }
   ],
   "source": [
    "#Mean of mort_acc column per total_acc\n",
    "total_acc_avg = df.groupby('total_acc').mean()['mort_acc']\n",
    "total_acc_avg"
   ]
  },
  {
   "cell_type": "code",
   "execution_count": 23,
   "metadata": {},
   "outputs": [],
   "source": [
    "def fill_mort_acc(total_acc,mort_acc):\n",
    "    '''\n",
    "    Accepts the total_acc and mort_acc values for the row.\n",
    "    Checks if the mort_acc is NaN. If so, it returns the avg mort_acc value\n",
    "    for the corresponding total_acc value for that row.\n",
    "    \n",
    "    total_acc_avg here should be a Series or dictionary containing the mapping of the\n",
    "    groupby averages of mort_acc per total_acc values.\n",
    "    '''\n",
    "    if np.isnan(mort_acc):\n",
    "        return total_acc_avg[total_acc]\n",
    "    else:\n",
    "        return mort_acc\n",
    "\n",
    "df['mort_acc'] = df.apply(lambda x: fill_mort_acc(x['total_acc'], x['mort_acc']), axis=1)"
   ]
  },
  {
   "cell_type": "markdown",
   "metadata": {},
   "source": [
    "Having done this, let's check again which data is missing:"
   ]
  },
  {
   "cell_type": "code",
   "execution_count": 24,
   "metadata": {},
   "outputs": [
    {
     "data": {
      "text/plain": [
       "loan_amnt               0.000000\n",
       "term                    0.000000\n",
       "int_rate                0.000000\n",
       "installment             0.000000\n",
       "grade                   0.000000\n",
       "sub_grade               0.000000\n",
       "emp_title               5.849968\n",
       "emp_length              4.804015\n",
       "home_ownership          0.000000\n",
       "annual_inc              0.000000\n",
       "verification_status     0.000000\n",
       "issue_d                 0.000000\n",
       "loan_status             0.000000\n",
       "purpose                 0.000000\n",
       "title                   0.000000\n",
       "dti                     0.000000\n",
       "earliest_cr_line        0.000000\n",
       "open_acc                0.000000\n",
       "pub_rec                 0.000000\n",
       "revol_bal               0.000000\n",
       "revol_util              0.000000\n",
       "total_acc               0.000000\n",
       "initial_list_status     0.000000\n",
       "application_type        0.000000\n",
       "mort_acc                0.000000\n",
       "pub_rec_bankruptcies    0.000000\n",
       "address                 0.000000\n",
       "dtype: float64"
      ]
     },
     "execution_count": 24,
     "metadata": {},
     "output_type": "execute_result"
    }
   ],
   "source": [
    "(df.isnull().sum()/len(df))*100"
   ]
  },
  {
   "cell_type": "markdown",
   "metadata": {},
   "source": [
    "We have 'emp_length' and 'emp_title' left. Since they're categorical, we'll deal with them together with our encodings."
   ]
  },
  {
   "cell_type": "markdown",
   "metadata": {},
   "source": [
    "### Categorical Variables"
   ]
  },
  {
   "cell_type": "markdown",
   "metadata": {},
   "source": [
    "Now, we'll encode our categorical variables. We start with our target variable:"
   ]
  },
  {
   "cell_type": "code",
   "execution_count": 25,
   "metadata": {},
   "outputs": [],
   "source": [
    "#LOAN_STATUS ---> TARGET VARIABLE AS A NUMERICAL\n",
    "df['loan_status'].unique()\n",
    "df['loan_status'] = df['loan_status'].map({'Fully Paid':1,'Charged Off':0})"
   ]
  },
  {
   "cell_type": "markdown",
   "metadata": {},
   "source": [
    "Before going further (and messing even more the original dataframe), let's see all correlations with the target variable:"
   ]
  },
  {
   "cell_type": "code",
   "execution_count": 26,
   "metadata": {},
   "outputs": [
    {
     "data": {
      "text/plain": [
       "<matplotlib.axes._subplots.AxesSubplot at 0x26f223ae070>"
      ]
     },
     "execution_count": 26,
     "metadata": {},
     "output_type": "execute_result"
    },
    {
     "data": {
      "image/png": "[encoded data removed]",
      "text/plain": [
       "<Figure size 864x576 with 2 Axes>"
      ]
     },
     "metadata": {},
     "output_type": "display_data"
    }
   ],
   "source": [
    "plt.figure(figsize=(12,8))\n",
    "sns.heatmap(df.corr()['loan_status'].to_frame(), annot=True, cmap='coolwarm')"
   ]
  },
  {
   "cell_type": "markdown",
   "metadata": {},
   "source": [
    "We see that the 'int_rate' (interest rate) feature is well correlated - which makes tons of sense. All the features that we thought would be well correlated in the EDA section are categorical, so we can't confirm our suspicions (yet).\n",
    "\n",
    "Now, we will either do a label-encoding or a one-hot encoding in the categorical features. Since we have over 300k data (and most of the features we'll be encoding have few unique values) we'll do this **before** splitting our data. We note, however, that we chose to scale our data **after** splitting. \n",
    "\n",
    "Lastly, since we don't want to make this notebook too long (much more than already is), we'll explain our thought process in commentary code."
   ]
  },
  {
   "cell_type": "code",
   "execution_count": 27,
   "metadata": {},
   "outputs": [
    {
     "data": {
      "image/png": "[encoded data removed]",
      "text/plain": [
       "<Figure size 864x576 with 1 Axes>"
      ]
     },
     "metadata": {},
     "output_type": "display_data"
    }
   ],
   "source": [
    "#TERM (per df_info: The number of payments on the loan. Values are in months and can be either 36 or 60.)\n",
    "df['term'].describe()\n",
    "uniques = list(df['term'].unique()) #36 months or 60 months.\n",
    "#we do a manual label enconding:\n",
    "df['term'] = df['term'].apply(lambda x : len(uniques) - uniques.index(x) - 1)\n",
    "\n",
    "#GRADE\n",
    "#is part of the sub-grade, so we'll drop it\n",
    "df.drop('grade',axis=1, inplace=True)\n",
    "\n",
    "#SUB-GRADE\n",
    "df['sub_grade'].describe()\n",
    "uniques = sorted(list(df['sub_grade'].unique()))\n",
    "#since we have a 'order' of subgrades (with A1 being the best and G5 the worst), we also do a manual label encoding:\n",
    "df['sub_grade'] = df['sub_grade'].apply(lambda x : len(uniques) - uniques.index(x) - 1)\n",
    "\n",
    "#HOME-OWN\n",
    "df['home_ownership'].describe()\n",
    "uniques = list(df['home_ownership'].unique()) #any? other? \n",
    "#since no situation is 'better' than another, better do a one-hot enconding. \n",
    "#But first we're replacing 'ANY' and 'NONE' with 'OTHER'\n",
    "df['home_ownership']=df['home_ownership'].replace(['NONE', 'ANY'], 'OTHER')\n",
    "temp = pd.get_dummies(df['home_ownership'])\n",
    "temp.drop(['OTHER'], inplace=True, axis=1)\n",
    "df.drop('home_ownership', axis=1, inplace=True)\n",
    "df = pd.concat([df, temp], axis=1)\n",
    "\n",
    "#EMP_TITLE (still has missing data)\n",
    "df['emp_title'].describe() #too many unique values, so we drop it\n",
    "df.drop('emp_title', axis=1, inplace=True)\n",
    "\n",
    "#EMP_LENGTH (still has missing data)\n",
    "#lets see the proportion between years and paid/not paid\n",
    "emp_co = df[df['loan_status']==0].groupby(\"emp_length\").count()['loan_status']\n",
    "emp_fp = df[df['loan_status']==1].groupby(\"emp_length\").count()['loan_status']\n",
    "emp_len = emp_co/emp_fp\n",
    "plt.figure(figsize=(12,8))\n",
    "g = sns.barplot(emp_len.index, emp_len.values, order=emp_order, color=sns.color_palette()[0])\n",
    "g.set_xticklabels(g.get_xticklabels(), rotation = 90)\n",
    "plt.show()\n",
    "\n",
    "#since is so similar across all categories, lets drop it\n",
    "df.drop('emp_length', axis=1, inplace=True)\n",
    "\n",
    "\n",
    "#VERIFICATION_STATUS (per df_info: Indicates if income was verified by LC, not verified, or if the income source was verified)\n",
    "df['verification_status'].describe()\n",
    "uniques = list(df['verification_status'].unique())\n",
    "#since not verified < source < verified, lets make a label enconding\n",
    "df['verification_status'] = df['verification_status'].apply(lambda x : len(uniques) - uniques.index(x) - 1)\n",
    "\n",
    "\n",
    "#PURPORSE (per df_info: A category provided by the borrower for the loan request.)\n",
    "df['purpose'].describe()\n",
    "uniques = list(df['purpose'].unique()) \n",
    "df.groupby('purpose').count()['int_rate'].sort_values(ascending=False)\n",
    "#changing renewable_energy since has few occurences to home_improvement\n",
    "df.loc[df['purpose'] == 'renewable_energy', 'purpose'] = 'home_improvement' \n",
    "#one-hot encoding\n",
    "temp = pd.get_dummies(df['purpose'])\n",
    "temp.drop('other', axis=1, inplace=True)\n",
    "df.drop('purpose', axis=1, inplace=True)\n",
    "df = pd.concat([df, temp], axis=1)\n",
    "\n",
    "#TITLE (per df_info: The loan title provided by the borrower)\n",
    "df['title'].describe() #too many unique values\n",
    "#since we already have purpose, we are going to drop it\n",
    "df.drop('title', axis=1, inplace=True)\n",
    "\n",
    "#INITIAL_LIST_STATUS (per df_info: Interest Rate on the loan)\n",
    "df['initial_list_status'].describe()\n",
    "temp = pd.get_dummies(df['initial_list_status'], drop_first=True)\n",
    "df.drop('initial_list_status', inplace=True, axis=1)\n",
    "df = pd.concat([df, temp], axis=1)\n",
    "\n",
    "\n",
    "#APPLICATION_TYPE (per df_info: Indicates whether the loan is an individual application or a joint application with two co-borrowers)\n",
    "df['application_type'].describe()\n",
    "temp = pd.get_dummies(df['application_type'], drop_first=True)\n",
    "df.drop('application_type', inplace=True, axis=1)\n",
    "df = pd.concat([df, temp], axis=1)\n",
    "\n",
    "#ISSUE_D (per df_info: The month which the loan was funded)\n",
    "#This would be data leakage, we wouldn't know beforehand whether or not a loan would be issued \n",
    "#when using our model, so in theory we wouldn't have an issue_date. So, we drop this feature.\n",
    "df.drop('issue_d', inplace=True, axis=1)\n",
    "\n",
    "#EARLIEST_CR_LINE (per df_info: The month the borrower's earliest reported credit line was opened)\n",
    "date = pd.to_datetime(df['earliest_cr_line'])\n",
    "#year\n",
    "df['Earliest Credit Year'] = date.dt.year\n",
    "#month as dummies\n",
    "temp = pd.get_dummies(date.dt.month, drop_first=True)\n",
    "df.drop('earliest_cr_line', inplace=True, axis=1)\n",
    "df = pd.concat([df, temp], axis=1)\n",
    "\n",
    "\n",
    "#ADDRESS\n",
    "#getting only the zipcodes, since we only have 9 of them.\n",
    "zipcodes = df['address'].apply(lambda x : x[-5:])\n",
    "temp = pd.get_dummies(zipcodes, drop_first=True)\n",
    "df.drop('address', inplace=True, axis=1)\n",
    "df = pd.concat([df, temp], axis=1)\n",
    "\n",
    "\n",
    "#REVOL_UTIL (per df_info: Revolving line utilization rate, or the amount of credit the borrower is using relative to all available revolving credit.)\n",
    "#This also may be data leakage depending on how the information is obtained: if it is when the client applies for the loan or after the loan is approved.\n",
    "#We believe that is the former, so we won't drop this feature.\n",
    "#Also, since it is a percentage of available credit, lets see if we have entries with more than 100%:\n",
    "len(df[df['revol_util'] > 100]['revol_util'])/len(df)*100 #0.29% total\n",
    "#since it is so few entries, lets work only with those lower than 100\n",
    "df = df[df['revol_util'] < 100]\n",
    "\n",
    "\n",
    "# checking if we still have missing data\n",
    "miss_cols = [cols for cols in df.columns if df[cols].isnull().sum() > 0]\n",
    "\n",
    "### SAVING TREATED DATA FOR EASIER FUTURE USE \n",
    "df.to_csv('lending_club_loan_treated.csv', index=False)"
   ]
  },
  {
   "cell_type": "markdown",
   "metadata": {},
   "source": [
    "## Feature Selection"
   ]
  },
  {
   "cell_type": "code",
   "execution_count": 28,
   "metadata": {},
   "outputs": [
    {
     "data": {
      "text/plain": [
       "(370695, 55)"
      ]
     },
     "execution_count": 28,
     "metadata": {},
     "output_type": "execute_result"
    }
   ],
   "source": [
    "df.shape"
   ]
  },
  {
   "cell_type": "markdown",
   "metadata": {},
   "source": [
    "Since we have now over 55 features, we'll do a feature selection to make our modelling faster. To avoid leakage, we'll first separate 20% of our data for 'production':"
   ]
  },
  {
   "cell_type": "code",
   "execution_count": 29,
   "metadata": {},
   "outputs": [],
   "source": [
    "X = df.drop('loan_status', axis=1)\n",
    "y = df['loan_status']\n",
    "\n",
    "\n",
    "from sklearn.model_selection import train_test_split\n",
    "X_train, X_test, y_train, y_test = train_test_split(X, y, test_size=0.20, random_state=RANDOM_STATE)"
   ]
  },
  {
   "cell_type": "code",
   "execution_count": 30,
   "metadata": {},
   "outputs": [],
   "source": [
    "from sklearn.feature_selection import SelectKBest, f_classif\n",
    "selector = SelectKBest(score_func = f_classif, k=12)\n",
    "X_train_sel = selector.fit_transform(X_train, y_train)"
   ]
  },
  {
   "cell_type": "markdown",
   "metadata": {},
   "source": [
    "Let's see which features were chosen:"
   ]
  },
  {
   "cell_type": "code",
   "execution_count": 31,
   "metadata": {
    "scrolled": true
   },
   "outputs": [
    {
     "name": "stdout",
     "output_type": "stream",
     "text": [
      "['loan_amnt', 'term', 'int_rate', 'sub_grade', 'annual_inc', 'verification_status', 'revol_util', '05113', '11650', '29597', '86630', '93700']\n"
     ]
    }
   ],
   "source": [
    "cols_selected = [name for index, name in enumerate(X.columns) if selector.get_support()[index]]\n",
    "print(cols_selected)"
   ]
  },
  {
   "cell_type": "markdown",
   "metadata": {},
   "source": [
    "Let's now visualize the scores:"
   ]
  },
  {
   "cell_type": "code",
   "execution_count": 32,
   "metadata": {},
   "outputs": [
    {
     "data": {
      "text/plain": [
       "[Text(0, 0, 'loan_amnt'),\n",
       " Text(0, 0, 'term'),\n",
       " Text(0, 0, 'int_rate'),\n",
       " Text(0, 0, 'installment'),\n",
       " Text(0, 0, 'sub_grade'),\n",
       " Text(0, 0, 'annual_inc'),\n",
       " Text(0, 0, 'verification_status'),\n",
       " Text(0, 0, 'dti'),\n",
       " Text(0, 0, 'open_acc'),\n",
       " Text(0, 0, 'pub_rec'),\n",
       " Text(0, 0, 'revol_bal'),\n",
       " Text(0, 0, 'revol_util'),\n",
       " Text(0, 0, 'total_acc'),\n",
       " Text(0, 0, 'mort_acc'),\n",
       " Text(0, 0, 'pub_rec_bankruptcies'),\n",
       " Text(0, 0, 'MORTGAGE'),\n",
       " Text(0, 0, 'OWN'),\n",
       " Text(0, 0, 'RENT'),\n",
       " Text(0, 0, 'car'),\n",
       " Text(0, 0, 'credit_card'),\n",
       " Text(0, 0, 'debt_consolidation'),\n",
       " Text(0, 0, 'educational'),\n",
       " Text(0, 0, 'home_improvement'),\n",
       " Text(0, 0, 'house'),\n",
       " Text(0, 0, 'major_purchase'),\n",
       " Text(0, 0, 'medical'),\n",
       " Text(0, 0, 'moving'),\n",
       " Text(0, 0, 'small_business'),\n",
       " Text(0, 0, 'vacation'),\n",
       " Text(0, 0, 'wedding'),\n",
       " Text(0, 0, 'w'),\n",
       " Text(0, 0, 'INDIVIDUAL'),\n",
       " Text(0, 0, 'JOINT'),\n",
       " Text(0, 0, 'Earliest Credit Year'),\n",
       " Text(0, 0, '2'),\n",
       " Text(0, 0, '3'),\n",
       " Text(0, 0, '4'),\n",
       " Text(0, 0, '5'),\n",
       " Text(0, 0, '6'),\n",
       " Text(0, 0, '7'),\n",
       " Text(0, 0, '8'),\n",
       " Text(0, 0, '9'),\n",
       " Text(0, 0, '10'),\n",
       " Text(0, 0, '11'),\n",
       " Text(0, 0, '12'),\n",
       " Text(0, 0, '05113'),\n",
       " Text(0, 0, '11650'),\n",
       " Text(0, 0, '22690'),\n",
       " Text(0, 0, '29597'),\n",
       " Text(0, 0, '30723'),\n",
       " Text(0, 0, '48052'),\n",
       " Text(0, 0, '70466'),\n",
       " Text(0, 0, '86630'),\n",
       " Text(0, 0, '93700')]"
      ]
     },
     "execution_count": 32,
     "metadata": {},
     "output_type": "execute_result"
    },
    {
     "data": {
      "image/png": "[encoded data removed]",
      "text/plain": [
       "<Figure size 864x576 with 1 Axes>"
      ]
     },
     "metadata": {},
     "output_type": "display_data"
    }
   ],
   "source": [
    "plt.figure(figsize=(12,8))\n",
    "g = sns.barplot(x = X.columns, y = selector.scores_)\n",
    "g.set_xticklabels(X.columns, rotation = 90)"
   ]
  },
  {
   "cell_type": "markdown",
   "metadata": {},
   "source": [
    "We see that the 'sub-grade' and 'int_rate' are well-correlated features (just like we said in previous sections). Also, it seems like the zip-codes are important features.\n",
    "\n",
    "With the features selected, we now train our models."
   ]
  },
  {
   "cell_type": "markdown",
   "metadata": {},
   "source": [
    "## Modeling"
   ]
  },
  {
   "cell_type": "markdown",
   "metadata": {},
   "source": [
    "We'll use the most commons classification models and compare them.\n",
    "\n",
    "First, we'll define our Cross-Validation method. As we saw in the first graph, we have much more 'Fully Paid' entries than 'Charged Off'. So, to deal with this, we will do a [*Stratified Suffle Split*](https://scikit-learn.org/stable/modules/generated/sklearn.model_selection.StratifiedShuffleSplit.html)."
   ]
  },
  {
   "cell_type": "code",
   "execution_count": 33,
   "metadata": {},
   "outputs": [],
   "source": [
    "from sklearn.model_selection import StratifiedShuffleSplit\n",
    "sss = StratifiedShuffleSplit(n_splits=5, test_size=0.3, random_state=RANDOM_STATE)"
   ]
  },
  {
   "cell_type": "markdown",
   "metadata": {},
   "source": [
    "Now, we load the models:"
   ]
  },
  {
   "cell_type": "code",
   "execution_count": 34,
   "metadata": {},
   "outputs": [],
   "source": [
    "from sklearn.ensemble import RandomForestClassifier, AdaBoostClassifier, BaggingClassifier, ExtraTreesClassifier\n",
    "from sklearn.naive_bayes import GaussianNB, BernoulliNB\n",
    "from sklearn.linear_model import SGDClassifier, Perceptron, LogisticRegression, RidgeClassifier, PassiveAggressiveClassifier\n",
    "from sklearn.neighbors import KNeighborsClassifier\n",
    "from sklearn.tree import DecisionTreeClassifier\n",
    "from xgboost import XGBClassifier\n",
    "from sklearn.discriminant_analysis import LinearDiscriminantAnalysis, QuadraticDiscriminantAnalysis\n",
    "from sklearn.svm import LinearSVC\n",
    "#not using non-linear SVC because it takes too much time to train 300k data\n",
    "\n",
    "models = [LogisticRegression(), RandomForestClassifier(), AdaBoostClassifier(), BaggingClassifier(), \n",
    "         ExtraTreesClassifier(), GaussianNB(), SGDClassifier(), KNeighborsClassifier(n_neighbors = 2, n_jobs=-1), \n",
    "         DecisionTreeClassifier(), LinearDiscriminantAnalysis(), QuadraticDiscriminantAnalysis(), XGBClassifier(), Perceptron(), BernoulliNB(), RidgeClassifier(), PassiveAggressiveClassifier(), LinearSVC()]"
   ]
  },
  {
   "cell_type": "markdown",
   "metadata": {},
   "source": [
    "We now define a training function to train the data on each model from our list:"
   ]
  },
  {
   "cell_type": "code",
   "execution_count": 35,
   "metadata": {},
   "outputs": [],
   "source": [
    "from sklearn.preprocessing import MinMaxScaler\n",
    "from sklearn.pipeline import Pipeline\n",
    "from sklearn.model_selection import cross_val_score\n",
    "import time\n",
    "\n",
    "def training (model_list, sss, X_t, y_t):\n",
    "    model_df = pd.DataFrame(columns=['Name', 'Accuracy Score (Mean)', 'Time'])\n",
    "    row = 0        \n",
    "    for model in model_list:\n",
    "        pipe = Pipeline([('scaler', MinMaxScaler()), ('model', model)])\n",
    "        print('Model ' + str(row+1) + ': ' + model.__class__.__name__)\n",
    "        start = time.time()\n",
    "        score = cross_val_score(pipe, X_t, y_t, cv = sss, scoring='accuracy')\n",
    "        end = time.time()\n",
    "        model_df.loc[row] = [model.__class__.__name__, np.mean(score), end-start]\n",
    "        print(model.__class__.__name__ + ' registered')\n",
    "        print('Time spent: {:.2f} \\n'.format(end-start))\n",
    "        row += 1\n",
    "    \n",
    "    return model_df"
   ]
  },
  {
   "cell_type": "markdown",
   "metadata": {},
   "source": [
    "And now we do the training itself:"
   ]
  },
  {
   "cell_type": "code",
   "execution_count": 36,
   "metadata": {},
   "outputs": [
    {
     "name": "stdout",
     "output_type": "stream",
     "text": [
      "Model 1: LogisticRegression\n",
      "LogisticRegression registered\n",
      "Time spent: 8.03 \n",
      "\n",
      "Model 2: RandomForestClassifier\n",
      "RandomForestClassifier registered\n",
      "Time spent: 161.03 \n",
      "\n",
      "Model 3: AdaBoostClassifier\n",
      "AdaBoostClassifier registered\n",
      "Time spent: 46.74 \n",
      "\n",
      "Model 4: BaggingClassifier\n",
      "BaggingClassifier registered\n",
      "Time spent: 43.29 \n",
      "\n",
      "Model 5: ExtraTreesClassifier\n",
      "ExtraTreesClassifier registered\n",
      "Time spent: 127.23 \n",
      "\n",
      "Model 6: GaussianNB\n",
      "GaussianNB registered\n",
      "Time spent: 1.52 \n",
      "\n",
      "Model 7: SGDClassifier\n",
      "SGDClassifier registered\n",
      "Time spent: 2.67 \n",
      "\n",
      "Model 8: KNeighborsClassifier\n",
      "KNeighborsClassifier registered\n",
      "Time spent: 269.37 \n",
      "\n",
      "Model 9: DecisionTreeClassifier\n",
      "DecisionTreeClassifier registered\n",
      "Time spent: 7.86 \n",
      "\n",
      "Model 10: LinearDiscriminantAnalysis\n",
      "LinearDiscriminantAnalysis registered\n",
      "Time spent: 3.01 \n",
      "\n",
      "Model 11: QuadraticDiscriminantAnalysis\n"
     ]
    },
    {
     "name": "stderr",
     "output_type": "stream",
     "text": [
      "C:\\Users\\Andre\\Documents\\Spyder\\WPy64-3830\\python-3.8.3.amd64\\lib\\site-packages\\sklearn\\discriminant_analysis.py:715: UserWarning: Variables are collinear\n",
      "  warnings.warn(\"Variables are collinear\")\n",
      "C:\\Users\\Andre\\Documents\\Spyder\\WPy64-3830\\python-3.8.3.amd64\\lib\\site-packages\\sklearn\\discriminant_analysis.py:740: RuntimeWarning: divide by zero encountered in power\n",
      "  X2 = np.dot(Xm, R * (S ** (-0.5)))\n",
      "C:\\Users\\Andre\\Documents\\Spyder\\WPy64-3830\\python-3.8.3.amd64\\lib\\site-packages\\sklearn\\discriminant_analysis.py:740: RuntimeWarning: invalid value encountered in multiply\n",
      "  X2 = np.dot(Xm, R * (S ** (-0.5)))\n",
      "C:\\Users\\Andre\\Documents\\Spyder\\WPy64-3830\\python-3.8.3.amd64\\lib\\site-packages\\sklearn\\discriminant_analysis.py:743: RuntimeWarning: divide by zero encountered in log\n",
      "  u = np.asarray([np.sum(np.log(s)) for s in self.scalings_])\n",
      "C:\\Users\\Andre\\Documents\\Spyder\\WPy64-3830\\python-3.8.3.amd64\\lib\\site-packages\\sklearn\\discriminant_analysis.py:715: UserWarning: Variables are collinear\n",
      "  warnings.warn(\"Variables are collinear\")\n",
      "C:\\Users\\Andre\\Documents\\Spyder\\WPy64-3830\\python-3.8.3.amd64\\lib\\site-packages\\sklearn\\discriminant_analysis.py:740: RuntimeWarning: divide by zero encountered in power\n",
      "  X2 = np.dot(Xm, R * (S ** (-0.5)))\n",
      "C:\\Users\\Andre\\Documents\\Spyder\\WPy64-3830\\python-3.8.3.amd64\\lib\\site-packages\\sklearn\\discriminant_analysis.py:740: RuntimeWarning: invalid value encountered in multiply\n",
      "  X2 = np.dot(Xm, R * (S ** (-0.5)))\n",
      "C:\\Users\\Andre\\Documents\\Spyder\\WPy64-3830\\python-3.8.3.amd64\\lib\\site-packages\\sklearn\\discriminant_analysis.py:743: RuntimeWarning: divide by zero encountered in log\n",
      "  u = np.asarray([np.sum(np.log(s)) for s in self.scalings_])\n",
      "C:\\Users\\Andre\\Documents\\Spyder\\WPy64-3830\\python-3.8.3.amd64\\lib\\site-packages\\sklearn\\discriminant_analysis.py:715: UserWarning: Variables are collinear\n",
      "  warnings.warn(\"Variables are collinear\")\n",
      "C:\\Users\\Andre\\Documents\\Spyder\\WPy64-3830\\python-3.8.3.amd64\\lib\\site-packages\\sklearn\\discriminant_analysis.py:740: RuntimeWarning: divide by zero encountered in power\n",
      "  X2 = np.dot(Xm, R * (S ** (-0.5)))\n",
      "C:\\Users\\Andre\\Documents\\Spyder\\WPy64-3830\\python-3.8.3.amd64\\lib\\site-packages\\sklearn\\discriminant_analysis.py:740: RuntimeWarning: invalid value encountered in multiply\n",
      "  X2 = np.dot(Xm, R * (S ** (-0.5)))\n",
      "C:\\Users\\Andre\\Documents\\Spyder\\WPy64-3830\\python-3.8.3.amd64\\lib\\site-packages\\sklearn\\discriminant_analysis.py:743: RuntimeWarning: divide by zero encountered in log\n",
      "  u = np.asarray([np.sum(np.log(s)) for s in self.scalings_])\n",
      "C:\\Users\\Andre\\Documents\\Spyder\\WPy64-3830\\python-3.8.3.amd64\\lib\\site-packages\\sklearn\\discriminant_analysis.py:715: UserWarning: Variables are collinear\n",
      "  warnings.warn(\"Variables are collinear\")\n",
      "C:\\Users\\Andre\\Documents\\Spyder\\WPy64-3830\\python-3.8.3.amd64\\lib\\site-packages\\sklearn\\discriminant_analysis.py:740: RuntimeWarning: divide by zero encountered in power\n",
      "  X2 = np.dot(Xm, R * (S ** (-0.5)))\n",
      "C:\\Users\\Andre\\Documents\\Spyder\\WPy64-3830\\python-3.8.3.amd64\\lib\\site-packages\\sklearn\\discriminant_analysis.py:740: RuntimeWarning: invalid value encountered in multiply\n",
      "  X2 = np.dot(Xm, R * (S ** (-0.5)))\n",
      "C:\\Users\\Andre\\Documents\\Spyder\\WPy64-3830\\python-3.8.3.amd64\\lib\\site-packages\\sklearn\\discriminant_analysis.py:743: RuntimeWarning: divide by zero encountered in log\n",
      "  u = np.asarray([np.sum(np.log(s)) for s in self.scalings_])\n",
      "C:\\Users\\Andre\\Documents\\Spyder\\WPy64-3830\\python-3.8.3.amd64\\lib\\site-packages\\sklearn\\discriminant_analysis.py:715: UserWarning: Variables are collinear\n",
      "  warnings.warn(\"Variables are collinear\")\n",
      "C:\\Users\\Andre\\Documents\\Spyder\\WPy64-3830\\python-3.8.3.amd64\\lib\\site-packages\\sklearn\\discriminant_analysis.py:740: RuntimeWarning: divide by zero encountered in power\n",
      "  X2 = np.dot(Xm, R * (S ** (-0.5)))\n",
      "C:\\Users\\Andre\\Documents\\Spyder\\WPy64-3830\\python-3.8.3.amd64\\lib\\site-packages\\sklearn\\discriminant_analysis.py:740: RuntimeWarning: invalid value encountered in multiply\n",
      "  X2 = np.dot(Xm, R * (S ** (-0.5)))\n",
      "C:\\Users\\Andre\\Documents\\Spyder\\WPy64-3830\\python-3.8.3.amd64\\lib\\site-packages\\sklearn\\discriminant_analysis.py:743: RuntimeWarning: divide by zero encountered in log\n",
      "  u = np.asarray([np.sum(np.log(s)) for s in self.scalings_])\n"
     ]
    },
    {
     "name": "stdout",
     "output_type": "stream",
     "text": [
      "QuadraticDiscriminantAnalysis registered\n",
      "Time spent: 1.86 \n",
      "\n",
      "Model 12: XGBClassifier\n",
      "XGBClassifier registered\n",
      "Time spent: 24.81 \n",
      "\n",
      "Model 13: Perceptron\n",
      "Perceptron registered\n",
      "Time spent: 2.15 \n",
      "\n",
      "Model 14: BernoulliNB\n",
      "BernoulliNB registered\n",
      "Time spent: 1.52 \n",
      "\n",
      "Model 15: RidgeClassifier\n",
      "RidgeClassifier registered\n",
      "Time spent: 1.52 \n",
      "\n",
      "Model 16: PassiveAggressiveClassifier\n",
      "PassiveAggressiveClassifier registered\n",
      "Time spent: 2.33 \n",
      "\n",
      "Model 17: LinearSVC\n",
      "LinearSVC registered\n",
      "Time spent: 20.16 \n",
      "\n",
      "                             Name  Accuracy Score (Mean)        Time\n",
      "5                      GaussianNB               0.886407    1.515088\n",
      "6                   SGDClassifier               0.886407    2.667317\n",
      "14                RidgeClassifier               0.886401    1.522345\n",
      "9      LinearDiscriminantAnalysis               0.886378    3.014682\n",
      "2              AdaBoostClassifier               0.886360   46.741848\n",
      "13                    BernoulliNB               0.886351    1.524344\n",
      "16                      LinearSVC               0.886147   20.160635\n",
      "11                  XGBClassifier               0.886025   24.808913\n",
      "0              LogisticRegression               0.885277    8.033745\n",
      "1          RandomForestClassifier               0.879726  161.032997\n",
      "4            ExtraTreesClassifier               0.876044  127.230086\n",
      "15    PassiveAggressiveClassifier               0.863518    2.325526\n",
      "3               BaggingClassifier               0.859543   43.292027\n",
      "8          DecisionTreeClassifier               0.817157    7.859780\n",
      "12                     Perceptron               0.811607    2.145486\n",
      "7            KNeighborsClassifier               0.774593  269.372612\n",
      "10  QuadraticDiscriminantAnalysis               0.680434    1.862421\n"
     ]
    }
   ],
   "source": [
    "models_sss = training(models, sss, X_train_sel, y_train)\n",
    "models_sss.sort_values('Accuracy Score (Mean)', ascending=False, inplace=True)\n",
    "print(models_sss)"
   ]
  },
  {
   "cell_type": "markdown",
   "metadata": {},
   "source": [
    "With the data from the models, we have ~10 models who perform (almost) equally. "
   ]
  },
  {
   "cell_type": "markdown",
   "metadata": {},
   "source": [
    "### Grid Search"
   ]
  },
  {
   "cell_type": "markdown",
   "metadata": {},
   "source": [
    "Just for curiosity (and portfolio reasons), we'll now use GridSearchCV to tune the parameters of the Ridge Classifier (because is one of the fastest) and see if we can achieve a better score."
   ]
  },
  {
   "cell_type": "code",
   "execution_count": 37,
   "metadata": {},
   "outputs": [
    {
     "name": "stdout",
     "output_type": "stream",
     "text": [
      "Fitting 5 folds for each of 40 candidates, totalling 200 fits\n"
     ]
    },
    {
     "name": "stderr",
     "output_type": "stream",
     "text": [
      "[Parallel(n_jobs=1)]: Using backend SequentialBackend with 1 concurrent workers.\n"
     ]
    },
    {
     "name": "stdout",
     "output_type": "stream",
     "text": [
      "[CV] rid__alpha=0.1, rid__solver=sag .................................\n",
      "[CV] ..... rid__alpha=0.1, rid__solver=sag, score=0.886, total=   2.2s\n",
      "[CV] rid__alpha=0.1, rid__solver=sag .................................\n"
     ]
    },
    {
     "name": "stderr",
     "output_type": "stream",
     "text": [
      "[Parallel(n_jobs=1)]: Done   1 out of   1 | elapsed:    2.1s remaining:    0.0s\n"
     ]
    },
    {
     "name": "stdout",
     "output_type": "stream",
     "text": [
      "[CV] ..... rid__alpha=0.1, rid__solver=sag, score=0.886, total=   2.1s\n",
      "[CV] rid__alpha=0.1, rid__solver=sag .................................\n"
     ]
    },
    {
     "name": "stderr",
     "output_type": "stream",
     "text": [
      "[Parallel(n_jobs=1)]: Done   2 out of   2 | elapsed:    4.3s remaining:    0.0s\n"
     ]
    },
    {
     "name": "stdout",
     "output_type": "stream",
     "text": [
      "[CV] ..... rid__alpha=0.1, rid__solver=sag, score=0.886, total=   2.3s\n",
      "[CV] rid__alpha=0.1, rid__solver=sag .................................\n",
      "[CV] ..... rid__alpha=0.1, rid__solver=sag, score=0.887, total=   1.7s\n",
      "[CV] rid__alpha=0.1, rid__solver=sag .................................\n",
      "[CV] ..... rid__alpha=0.1, rid__solver=sag, score=0.887, total=   2.3s\n",
      "[CV] rid__alpha=0.1, rid__solver=lsqr ................................\n",
      "[CV] .... rid__alpha=0.1, rid__solver=lsqr, score=0.886, total=   0.3s\n",
      "[CV] rid__alpha=0.1, rid__solver=lsqr ................................\n",
      "[CV] .... rid__alpha=0.1, rid__solver=lsqr, score=0.886, total=   0.3s\n",
      "[CV] rid__alpha=0.1, rid__solver=lsqr ................................\n",
      "[CV] .... rid__alpha=0.1, rid__solver=lsqr, score=0.886, total=   0.3s\n",
      "[CV] rid__alpha=0.1, rid__solver=lsqr ................................\n",
      "[CV] .... rid__alpha=0.1, rid__solver=lsqr, score=0.887, total=   0.3s\n",
      "[CV] rid__alpha=0.1, rid__solver=lsqr ................................\n",
      "[CV] .... rid__alpha=0.1, rid__solver=lsqr, score=0.887, total=   0.3s\n",
      "[CV] rid__alpha=0.1, rid__solver=svd .................................\n",
      "[CV] ..... rid__alpha=0.1, rid__solver=svd, score=0.886, total=   0.3s\n",
      "[CV] rid__alpha=0.1, rid__solver=svd .................................\n",
      "[CV] ..... rid__alpha=0.1, rid__solver=svd, score=0.886, total=   0.3s\n",
      "[CV] rid__alpha=0.1, rid__solver=svd .................................\n",
      "[CV] ..... rid__alpha=0.1, rid__solver=svd, score=0.886, total=   0.3s\n",
      "[CV] rid__alpha=0.1, rid__solver=svd .................................\n",
      "[CV] ..... rid__alpha=0.1, rid__solver=svd, score=0.887, total=   0.3s\n",
      "[CV] rid__alpha=0.1, rid__solver=svd .................................\n",
      "[CV] ..... rid__alpha=0.1, rid__solver=svd, score=0.887, total=   0.3s\n",
      "[CV] rid__alpha=0.1, rid__solver=cholesky ............................\n",
      "[CV]  rid__alpha=0.1, rid__solver=cholesky, score=0.886, total=   0.2s\n",
      "[CV] rid__alpha=0.1, rid__solver=cholesky ............................\n",
      "[CV]  rid__alpha=0.1, rid__solver=cholesky, score=0.886, total=   0.2s\n",
      "[CV] rid__alpha=0.1, rid__solver=cholesky ............................\n",
      "[CV]  rid__alpha=0.1, rid__solver=cholesky, score=0.886, total=   0.2s\n",
      "[CV] rid__alpha=0.1, rid__solver=cholesky ............................\n",
      "[CV]  rid__alpha=0.1, rid__solver=cholesky, score=0.887, total=   0.2s\n",
      "[CV] rid__alpha=0.1, rid__solver=cholesky ............................\n",
      "[CV]  rid__alpha=0.1, rid__solver=cholesky, score=0.887, total=   0.2s\n",
      "[CV] rid__alpha=0.2, rid__solver=sag .................................\n",
      "[CV] ..... rid__alpha=0.2, rid__solver=sag, score=0.886, total=   2.0s\n",
      "[CV] rid__alpha=0.2, rid__solver=sag .................................\n",
      "[CV] ..... rid__alpha=0.2, rid__solver=sag, score=0.886, total=   2.1s\n",
      "[CV] rid__alpha=0.2, rid__solver=sag .................................\n",
      "[CV] ..... rid__alpha=0.2, rid__solver=sag, score=0.886, total=   2.1s\n",
      "[CV] rid__alpha=0.2, rid__solver=sag .................................\n",
      "[CV] ..... rid__alpha=0.2, rid__solver=sag, score=0.887, total=   2.1s\n",
      "[CV] rid__alpha=0.2, rid__solver=sag .................................\n",
      "[CV] ..... rid__alpha=0.2, rid__solver=sag, score=0.887, total=   2.1s\n",
      "[CV] rid__alpha=0.2, rid__solver=lsqr ................................\n",
      "[CV] .... rid__alpha=0.2, rid__solver=lsqr, score=0.886, total=   0.3s\n",
      "[CV] rid__alpha=0.2, rid__solver=lsqr ................................\n",
      "[CV] .... rid__alpha=0.2, rid__solver=lsqr, score=0.886, total=   0.3s\n",
      "[CV] rid__alpha=0.2, rid__solver=lsqr ................................\n",
      "[CV] .... rid__alpha=0.2, rid__solver=lsqr, score=0.886, total=   0.3s\n",
      "[CV] rid__alpha=0.2, rid__solver=lsqr ................................\n",
      "[CV] .... rid__alpha=0.2, rid__solver=lsqr, score=0.887, total=   0.3s\n",
      "[CV] rid__alpha=0.2, rid__solver=lsqr ................................\n",
      "[CV] .... rid__alpha=0.2, rid__solver=lsqr, score=0.887, total=   0.3s\n",
      "[CV] rid__alpha=0.2, rid__solver=svd .................................\n",
      "[CV] ..... rid__alpha=0.2, rid__solver=svd, score=0.886, total=   0.3s\n",
      "[CV] rid__alpha=0.2, rid__solver=svd .................................\n",
      "[CV] ..... rid__alpha=0.2, rid__solver=svd, score=0.886, total=   0.3s\n",
      "[CV] rid__alpha=0.2, rid__solver=svd .................................\n",
      "[CV] ..... rid__alpha=0.2, rid__solver=svd, score=0.886, total=   0.3s\n",
      "[CV] rid__alpha=0.2, rid__solver=svd .................................\n",
      "[CV] ..... rid__alpha=0.2, rid__solver=svd, score=0.887, total=   0.3s\n",
      "[CV] rid__alpha=0.2, rid__solver=svd .................................\n",
      "[CV] ..... rid__alpha=0.2, rid__solver=svd, score=0.887, total=   0.3s\n",
      "[CV] rid__alpha=0.2, rid__solver=cholesky ............................\n",
      "[CV]  rid__alpha=0.2, rid__solver=cholesky, score=0.886, total=   0.2s\n",
      "[CV] rid__alpha=0.2, rid__solver=cholesky ............................\n",
      "[CV]  rid__alpha=0.2, rid__solver=cholesky, score=0.886, total=   0.2s\n",
      "[CV] rid__alpha=0.2, rid__solver=cholesky ............................\n",
      "[CV]  rid__alpha=0.2, rid__solver=cholesky, score=0.886, total=   0.2s\n",
      "[CV] rid__alpha=0.2, rid__solver=cholesky ............................\n",
      "[CV]  rid__alpha=0.2, rid__solver=cholesky, score=0.887, total=   0.2s\n",
      "[CV] rid__alpha=0.2, rid__solver=cholesky ............................\n",
      "[CV]  rid__alpha=0.2, rid__solver=cholesky, score=0.887, total=   0.2s\n",
      "[CV] rid__alpha=0.3, rid__solver=sag .................................\n",
      "[CV] ..... rid__alpha=0.3, rid__solver=sag, score=0.886, total=   2.0s\n",
      "[CV] rid__alpha=0.3, rid__solver=sag .................................\n",
      "[CV] ..... rid__alpha=0.3, rid__solver=sag, score=0.886, total=   2.0s\n",
      "[CV] rid__alpha=0.3, rid__solver=sag .................................\n",
      "[CV] ..... rid__alpha=0.3, rid__solver=sag, score=0.886, total=   2.0s\n",
      "[CV] rid__alpha=0.3, rid__solver=sag .................................\n",
      "[CV] ..... rid__alpha=0.3, rid__solver=sag, score=0.887, total=   1.9s\n",
      "[CV] rid__alpha=0.3, rid__solver=sag .................................\n",
      "[CV] ..... rid__alpha=0.3, rid__solver=sag, score=0.887, total=   2.2s\n",
      "[CV] rid__alpha=0.3, rid__solver=lsqr ................................\n",
      "[CV] .... rid__alpha=0.3, rid__solver=lsqr, score=0.886, total=   0.3s\n",
      "[CV] rid__alpha=0.3, rid__solver=lsqr ................................\n",
      "[CV] .... rid__alpha=0.3, rid__solver=lsqr, score=0.886, total=   0.3s\n",
      "[CV] rid__alpha=0.3, rid__solver=lsqr ................................\n",
      "[CV] .... rid__alpha=0.3, rid__solver=lsqr, score=0.886, total=   0.3s\n",
      "[CV] rid__alpha=0.3, rid__solver=lsqr ................................\n",
      "[CV] .... rid__alpha=0.3, rid__solver=lsqr, score=0.887, total=   0.3s\n",
      "[CV] rid__alpha=0.3, rid__solver=lsqr ................................\n",
      "[CV] .... rid__alpha=0.3, rid__solver=lsqr, score=0.887, total=   0.3s\n",
      "[CV] rid__alpha=0.3, rid__solver=svd .................................\n",
      "[CV] ..... rid__alpha=0.3, rid__solver=svd, score=0.886, total=   0.3s\n",
      "[CV] rid__alpha=0.3, rid__solver=svd .................................\n",
      "[CV] ..... rid__alpha=0.3, rid__solver=svd, score=0.886, total=   0.3s\n",
      "[CV] rid__alpha=0.3, rid__solver=svd .................................\n",
      "[CV] ..... rid__alpha=0.3, rid__solver=svd, score=0.886, total=   0.3s\n",
      "[CV] rid__alpha=0.3, rid__solver=svd .................................\n",
      "[CV] ..... rid__alpha=0.3, rid__solver=svd, score=0.887, total=   0.3s\n",
      "[CV] rid__alpha=0.3, rid__solver=svd .................................\n",
      "[CV] ..... rid__alpha=0.3, rid__solver=svd, score=0.887, total=   0.3s\n",
      "[CV] rid__alpha=0.3, rid__solver=cholesky ............................\n",
      "[CV]  rid__alpha=0.3, rid__solver=cholesky, score=0.886, total=   0.2s\n",
      "[CV] rid__alpha=0.3, rid__solver=cholesky ............................\n",
      "[CV]  rid__alpha=0.3, rid__solver=cholesky, score=0.886, total=   0.2s\n",
      "[CV] rid__alpha=0.3, rid__solver=cholesky ............................\n",
      "[CV]  rid__alpha=0.3, rid__solver=cholesky, score=0.886, total=   0.2s\n",
      "[CV] rid__alpha=0.3, rid__solver=cholesky ............................\n",
      "[CV]  rid__alpha=0.3, rid__solver=cholesky, score=0.887, total=   0.2s\n",
      "[CV] rid__alpha=0.3, rid__solver=cholesky ............................\n",
      "[CV]  rid__alpha=0.3, rid__solver=cholesky, score=0.887, total=   0.2s\n",
      "[CV] rid__alpha=0.4, rid__solver=sag .................................\n"
     ]
    },
    {
     "name": "stdout",
     "output_type": "stream",
     "text": [
      "[CV] ..... rid__alpha=0.4, rid__solver=sag, score=0.886, total=   2.2s\n",
      "[CV] rid__alpha=0.4, rid__solver=sag .................................\n",
      "[CV] ..... rid__alpha=0.4, rid__solver=sag, score=0.886, total=   2.1s\n",
      "[CV] rid__alpha=0.4, rid__solver=sag .................................\n",
      "[CV] ..... rid__alpha=0.4, rid__solver=sag, score=0.886, total=   1.9s\n",
      "[CV] rid__alpha=0.4, rid__solver=sag .................................\n",
      "[CV] ..... rid__alpha=0.4, rid__solver=sag, score=0.887, total=   2.2s\n",
      "[CV] rid__alpha=0.4, rid__solver=sag .................................\n",
      "[CV] ..... rid__alpha=0.4, rid__solver=sag, score=0.887, total=   1.9s\n",
      "[CV] rid__alpha=0.4, rid__solver=lsqr ................................\n",
      "[CV] .... rid__alpha=0.4, rid__solver=lsqr, score=0.886, total=   0.3s\n",
      "[CV] rid__alpha=0.4, rid__solver=lsqr ................................\n",
      "[CV] .... rid__alpha=0.4, rid__solver=lsqr, score=0.886, total=   0.3s\n",
      "[CV] rid__alpha=0.4, rid__solver=lsqr ................................\n",
      "[CV] .... rid__alpha=0.4, rid__solver=lsqr, score=0.886, total=   0.3s\n",
      "[CV] rid__alpha=0.4, rid__solver=lsqr ................................\n",
      "[CV] .... rid__alpha=0.4, rid__solver=lsqr, score=0.887, total=   0.3s\n",
      "[CV] rid__alpha=0.4, rid__solver=lsqr ................................\n",
      "[CV] .... rid__alpha=0.4, rid__solver=lsqr, score=0.887, total=   0.3s\n",
      "[CV] rid__alpha=0.4, rid__solver=svd .................................\n",
      "[CV] ..... rid__alpha=0.4, rid__solver=svd, score=0.886, total=   0.3s\n",
      "[CV] rid__alpha=0.4, rid__solver=svd .................................\n",
      "[CV] ..... rid__alpha=0.4, rid__solver=svd, score=0.886, total=   0.3s\n",
      "[CV] rid__alpha=0.4, rid__solver=svd .................................\n",
      "[CV] ..... rid__alpha=0.4, rid__solver=svd, score=0.886, total=   0.3s\n",
      "[CV] rid__alpha=0.4, rid__solver=svd .................................\n",
      "[CV] ..... rid__alpha=0.4, rid__solver=svd, score=0.887, total=   0.3s\n",
      "[CV] rid__alpha=0.4, rid__solver=svd .................................\n",
      "[CV] ..... rid__alpha=0.4, rid__solver=svd, score=0.887, total=   0.3s\n",
      "[CV] rid__alpha=0.4, rid__solver=cholesky ............................\n",
      "[CV]  rid__alpha=0.4, rid__solver=cholesky, score=0.886, total=   0.2s\n",
      "[CV] rid__alpha=0.4, rid__solver=cholesky ............................\n",
      "[CV]  rid__alpha=0.4, rid__solver=cholesky, score=0.886, total=   0.2s\n",
      "[CV] rid__alpha=0.4, rid__solver=cholesky ............................\n",
      "[CV]  rid__alpha=0.4, rid__solver=cholesky, score=0.886, total=   0.2s\n",
      "[CV] rid__alpha=0.4, rid__solver=cholesky ............................\n",
      "[CV]  rid__alpha=0.4, rid__solver=cholesky, score=0.887, total=   0.2s\n",
      "[CV] rid__alpha=0.4, rid__solver=cholesky ............................\n",
      "[CV]  rid__alpha=0.4, rid__solver=cholesky, score=0.887, total=   0.2s\n",
      "[CV] rid__alpha=0.5, rid__solver=sag .................................\n",
      "[CV] ..... rid__alpha=0.5, rid__solver=sag, score=0.886, total=   2.0s\n",
      "[CV] rid__alpha=0.5, rid__solver=sag .................................\n",
      "[CV] ..... rid__alpha=0.5, rid__solver=sag, score=0.886, total=   1.7s\n",
      "[CV] rid__alpha=0.5, rid__solver=sag .................................\n",
      "[CV] ..... rid__alpha=0.5, rid__solver=sag, score=0.886, total=   2.1s\n",
      "[CV] rid__alpha=0.5, rid__solver=sag .................................\n",
      "[CV] ..... rid__alpha=0.5, rid__solver=sag, score=0.887, total=   1.9s\n",
      "[CV] rid__alpha=0.5, rid__solver=sag .................................\n",
      "[CV] ..... rid__alpha=0.5, rid__solver=sag, score=0.887, total=   2.0s\n",
      "[CV] rid__alpha=0.5, rid__solver=lsqr ................................\n",
      "[CV] .... rid__alpha=0.5, rid__solver=lsqr, score=0.886, total=   0.3s\n",
      "[CV] rid__alpha=0.5, rid__solver=lsqr ................................\n",
      "[CV] .... rid__alpha=0.5, rid__solver=lsqr, score=0.886, total=   0.3s\n",
      "[CV] rid__alpha=0.5, rid__solver=lsqr ................................\n",
      "[CV] .... rid__alpha=0.5, rid__solver=lsqr, score=0.886, total=   0.3s\n",
      "[CV] rid__alpha=0.5, rid__solver=lsqr ................................\n",
      "[CV] .... rid__alpha=0.5, rid__solver=lsqr, score=0.887, total=   0.3s\n",
      "[CV] rid__alpha=0.5, rid__solver=lsqr ................................\n",
      "[CV] .... rid__alpha=0.5, rid__solver=lsqr, score=0.887, total=   0.3s\n",
      "[CV] rid__alpha=0.5, rid__solver=svd .................................\n",
      "[CV] ..... rid__alpha=0.5, rid__solver=svd, score=0.886, total=   0.3s\n",
      "[CV] rid__alpha=0.5, rid__solver=svd .................................\n",
      "[CV] ..... rid__alpha=0.5, rid__solver=svd, score=0.886, total=   0.3s\n",
      "[CV] rid__alpha=0.5, rid__solver=svd .................................\n",
      "[CV] ..... rid__alpha=0.5, rid__solver=svd, score=0.886, total=   0.3s\n",
      "[CV] rid__alpha=0.5, rid__solver=svd .................................\n",
      "[CV] ..... rid__alpha=0.5, rid__solver=svd, score=0.887, total=   0.3s\n",
      "[CV] rid__alpha=0.5, rid__solver=svd .................................\n",
      "[CV] ..... rid__alpha=0.5, rid__solver=svd, score=0.887, total=   0.3s\n",
      "[CV] rid__alpha=0.5, rid__solver=cholesky ............................\n",
      "[CV]  rid__alpha=0.5, rid__solver=cholesky, score=0.886, total=   0.2s\n",
      "[CV] rid__alpha=0.5, rid__solver=cholesky ............................\n",
      "[CV]  rid__alpha=0.5, rid__solver=cholesky, score=0.886, total=   0.2s\n",
      "[CV] rid__alpha=0.5, rid__solver=cholesky ............................\n",
      "[CV]  rid__alpha=0.5, rid__solver=cholesky, score=0.886, total=   0.2s\n",
      "[CV] rid__alpha=0.5, rid__solver=cholesky ............................\n",
      "[CV]  rid__alpha=0.5, rid__solver=cholesky, score=0.887, total=   0.2s\n",
      "[CV] rid__alpha=0.5, rid__solver=cholesky ............................\n",
      "[CV]  rid__alpha=0.5, rid__solver=cholesky, score=0.887, total=   0.2s\n",
      "[CV] rid__alpha=0.6, rid__solver=sag .................................\n",
      "[CV] ..... rid__alpha=0.6, rid__solver=sag, score=0.886, total=   2.3s\n",
      "[CV] rid__alpha=0.6, rid__solver=sag .................................\n",
      "[CV] ..... rid__alpha=0.6, rid__solver=sag, score=0.886, total=   1.9s\n",
      "[CV] rid__alpha=0.6, rid__solver=sag .................................\n",
      "[CV] ..... rid__alpha=0.6, rid__solver=sag, score=0.886, total=   1.9s\n",
      "[CV] rid__alpha=0.6, rid__solver=sag .................................\n",
      "[CV] ..... rid__alpha=0.6, rid__solver=sag, score=0.887, total=   1.9s\n",
      "[CV] rid__alpha=0.6, rid__solver=sag .................................\n",
      "[CV] ..... rid__alpha=0.6, rid__solver=sag, score=0.887, total=   2.1s\n",
      "[CV] rid__alpha=0.6, rid__solver=lsqr ................................\n",
      "[CV] .... rid__alpha=0.6, rid__solver=lsqr, score=0.886, total=   0.3s\n",
      "[CV] rid__alpha=0.6, rid__solver=lsqr ................................\n",
      "[CV] .... rid__alpha=0.6, rid__solver=lsqr, score=0.886, total=   0.3s\n",
      "[CV] rid__alpha=0.6, rid__solver=lsqr ................................\n",
      "[CV] .... rid__alpha=0.6, rid__solver=lsqr, score=0.886, total=   0.3s\n",
      "[CV] rid__alpha=0.6, rid__solver=lsqr ................................\n",
      "[CV] .... rid__alpha=0.6, rid__solver=lsqr, score=0.887, total=   0.3s\n",
      "[CV] rid__alpha=0.6, rid__solver=lsqr ................................\n",
      "[CV] .... rid__alpha=0.6, rid__solver=lsqr, score=0.887, total=   0.3s\n",
      "[CV] rid__alpha=0.6, rid__solver=svd .................................\n",
      "[CV] ..... rid__alpha=0.6, rid__solver=svd, score=0.886, total=   0.3s\n",
      "[CV] rid__alpha=0.6, rid__solver=svd .................................\n",
      "[CV] ..... rid__alpha=0.6, rid__solver=svd, score=0.886, total=   0.3s\n",
      "[CV] rid__alpha=0.6, rid__solver=svd .................................\n",
      "[CV] ..... rid__alpha=0.6, rid__solver=svd, score=0.886, total=   0.3s\n",
      "[CV] rid__alpha=0.6, rid__solver=svd .................................\n",
      "[CV] ..... rid__alpha=0.6, rid__solver=svd, score=0.887, total=   0.3s\n",
      "[CV] rid__alpha=0.6, rid__solver=svd .................................\n",
      "[CV] ..... rid__alpha=0.6, rid__solver=svd, score=0.887, total=   0.3s\n",
      "[CV] rid__alpha=0.6, rid__solver=cholesky ............................\n",
      "[CV]  rid__alpha=0.6, rid__solver=cholesky, score=0.886, total=   0.2s\n",
      "[CV] rid__alpha=0.6, rid__solver=cholesky ............................\n",
      "[CV]  rid__alpha=0.6, rid__solver=cholesky, score=0.886, total=   0.2s\n",
      "[CV] rid__alpha=0.6, rid__solver=cholesky ............................\n",
      "[CV]  rid__alpha=0.6, rid__solver=cholesky, score=0.886, total=   0.2s\n",
      "[CV] rid__alpha=0.6, rid__solver=cholesky ............................\n"
     ]
    },
    {
     "name": "stdout",
     "output_type": "stream",
     "text": [
      "[CV]  rid__alpha=0.6, rid__solver=cholesky, score=0.887, total=   0.2s\n",
      "[CV] rid__alpha=0.6, rid__solver=cholesky ............................\n",
      "[CV]  rid__alpha=0.6, rid__solver=cholesky, score=0.887, total=   0.2s\n",
      "[CV] rid__alpha=0.7, rid__solver=sag .................................\n",
      "[CV] ..... rid__alpha=0.7, rid__solver=sag, score=0.886, total=   1.9s\n",
      "[CV] rid__alpha=0.7, rid__solver=sag .................................\n",
      "[CV] ..... rid__alpha=0.7, rid__solver=sag, score=0.886, total=   1.8s\n",
      "[CV] rid__alpha=0.7, rid__solver=sag .................................\n",
      "[CV] ..... rid__alpha=0.7, rid__solver=sag, score=0.886, total=   1.8s\n",
      "[CV] rid__alpha=0.7, rid__solver=sag .................................\n",
      "[CV] ..... rid__alpha=0.7, rid__solver=sag, score=0.887, total=   1.9s\n",
      "[CV] rid__alpha=0.7, rid__solver=sag .................................\n",
      "[CV] ..... rid__alpha=0.7, rid__solver=sag, score=0.887, total=   2.1s\n",
      "[CV] rid__alpha=0.7, rid__solver=lsqr ................................\n",
      "[CV] .... rid__alpha=0.7, rid__solver=lsqr, score=0.886, total=   0.3s\n",
      "[CV] rid__alpha=0.7, rid__solver=lsqr ................................\n",
      "[CV] .... rid__alpha=0.7, rid__solver=lsqr, score=0.886, total=   0.3s\n",
      "[CV] rid__alpha=0.7, rid__solver=lsqr ................................\n",
      "[CV] .... rid__alpha=0.7, rid__solver=lsqr, score=0.886, total=   0.3s\n",
      "[CV] rid__alpha=0.7, rid__solver=lsqr ................................\n",
      "[CV] .... rid__alpha=0.7, rid__solver=lsqr, score=0.887, total=   0.3s\n",
      "[CV] rid__alpha=0.7, rid__solver=lsqr ................................\n",
      "[CV] .... rid__alpha=0.7, rid__solver=lsqr, score=0.887, total=   0.3s\n",
      "[CV] rid__alpha=0.7, rid__solver=svd .................................\n",
      "[CV] ..... rid__alpha=0.7, rid__solver=svd, score=0.886, total=   0.3s\n",
      "[CV] rid__alpha=0.7, rid__solver=svd .................................\n",
      "[CV] ..... rid__alpha=0.7, rid__solver=svd, score=0.886, total=   0.3s\n",
      "[CV] rid__alpha=0.7, rid__solver=svd .................................\n",
      "[CV] ..... rid__alpha=0.7, rid__solver=svd, score=0.886, total=   0.3s\n",
      "[CV] rid__alpha=0.7, rid__solver=svd .................................\n",
      "[CV] ..... rid__alpha=0.7, rid__solver=svd, score=0.887, total=   0.3s\n",
      "[CV] rid__alpha=0.7, rid__solver=svd .................................\n",
      "[CV] ..... rid__alpha=0.7, rid__solver=svd, score=0.887, total=   0.3s\n",
      "[CV] rid__alpha=0.7, rid__solver=cholesky ............................\n",
      "[CV]  rid__alpha=0.7, rid__solver=cholesky, score=0.886, total=   0.2s\n",
      "[CV] rid__alpha=0.7, rid__solver=cholesky ............................\n",
      "[CV]  rid__alpha=0.7, rid__solver=cholesky, score=0.886, total=   0.2s\n",
      "[CV] rid__alpha=0.7, rid__solver=cholesky ............................\n",
      "[CV]  rid__alpha=0.7, rid__solver=cholesky, score=0.886, total=   0.2s\n",
      "[CV] rid__alpha=0.7, rid__solver=cholesky ............................\n",
      "[CV]  rid__alpha=0.7, rid__solver=cholesky, score=0.887, total=   0.2s\n",
      "[CV] rid__alpha=0.7, rid__solver=cholesky ............................\n",
      "[CV]  rid__alpha=0.7, rid__solver=cholesky, score=0.887, total=   0.2s\n",
      "[CV] rid__alpha=0.8, rid__solver=sag .................................\n",
      "[CV] ..... rid__alpha=0.8, rid__solver=sag, score=0.886, total=   1.9s\n",
      "[CV] rid__alpha=0.8, rid__solver=sag .................................\n",
      "[CV] ..... rid__alpha=0.8, rid__solver=sag, score=0.886, total=   2.0s\n",
      "[CV] rid__alpha=0.8, rid__solver=sag .................................\n",
      "[CV] ..... rid__alpha=0.8, rid__solver=sag, score=0.886, total=   1.9s\n",
      "[CV] rid__alpha=0.8, rid__solver=sag .................................\n",
      "[CV] ..... rid__alpha=0.8, rid__solver=sag, score=0.887, total=   1.8s\n",
      "[CV] rid__alpha=0.8, rid__solver=sag .................................\n",
      "[CV] ..... rid__alpha=0.8, rid__solver=sag, score=0.887, total=   1.8s\n",
      "[CV] rid__alpha=0.8, rid__solver=lsqr ................................\n",
      "[CV] .... rid__alpha=0.8, rid__solver=lsqr, score=0.886, total=   0.3s\n",
      "[CV] rid__alpha=0.8, rid__solver=lsqr ................................\n",
      "[CV] .... rid__alpha=0.8, rid__solver=lsqr, score=0.886, total=   0.3s\n",
      "[CV] rid__alpha=0.8, rid__solver=lsqr ................................\n",
      "[CV] .... rid__alpha=0.8, rid__solver=lsqr, score=0.886, total=   0.3s\n",
      "[CV] rid__alpha=0.8, rid__solver=lsqr ................................\n",
      "[CV] .... rid__alpha=0.8, rid__solver=lsqr, score=0.887, total=   0.3s\n",
      "[CV] rid__alpha=0.8, rid__solver=lsqr ................................\n",
      "[CV] .... rid__alpha=0.8, rid__solver=lsqr, score=0.887, total=   0.3s\n",
      "[CV] rid__alpha=0.8, rid__solver=svd .................................\n",
      "[CV] ..... rid__alpha=0.8, rid__solver=svd, score=0.886, total=   0.3s\n",
      "[CV] rid__alpha=0.8, rid__solver=svd .................................\n",
      "[CV] ..... rid__alpha=0.8, rid__solver=svd, score=0.886, total=   0.3s\n",
      "[CV] rid__alpha=0.8, rid__solver=svd .................................\n",
      "[CV] ..... rid__alpha=0.8, rid__solver=svd, score=0.886, total=   0.3s\n",
      "[CV] rid__alpha=0.8, rid__solver=svd .................................\n",
      "[CV] ..... rid__alpha=0.8, rid__solver=svd, score=0.887, total=   0.3s\n",
      "[CV] rid__alpha=0.8, rid__solver=svd .................................\n",
      "[CV] ..... rid__alpha=0.8, rid__solver=svd, score=0.887, total=   0.3s\n",
      "[CV] rid__alpha=0.8, rid__solver=cholesky ............................\n",
      "[CV]  rid__alpha=0.8, rid__solver=cholesky, score=0.886, total=   0.2s\n",
      "[CV] rid__alpha=0.8, rid__solver=cholesky ............................\n",
      "[CV]  rid__alpha=0.8, rid__solver=cholesky, score=0.886, total=   0.2s\n",
      "[CV] rid__alpha=0.8, rid__solver=cholesky ............................\n",
      "[CV]  rid__alpha=0.8, rid__solver=cholesky, score=0.886, total=   0.2s\n",
      "[CV] rid__alpha=0.8, rid__solver=cholesky ............................\n",
      "[CV]  rid__alpha=0.8, rid__solver=cholesky, score=0.887, total=   0.2s\n",
      "[CV] rid__alpha=0.8, rid__solver=cholesky ............................\n",
      "[CV]  rid__alpha=0.8, rid__solver=cholesky, score=0.887, total=   0.2s\n",
      "[CV] rid__alpha=0.9, rid__solver=sag .................................\n",
      "[CV] ..... rid__alpha=0.9, rid__solver=sag, score=0.886, total=   1.8s\n",
      "[CV] rid__alpha=0.9, rid__solver=sag .................................\n",
      "[CV] ..... rid__alpha=0.9, rid__solver=sag, score=0.886, total=   1.7s\n",
      "[CV] rid__alpha=0.9, rid__solver=sag .................................\n",
      "[CV] ..... rid__alpha=0.9, rid__solver=sag, score=0.886, total=   1.8s\n",
      "[CV] rid__alpha=0.9, rid__solver=sag .................................\n",
      "[CV] ..... rid__alpha=0.9, rid__solver=sag, score=0.887, total=   1.8s\n",
      "[CV] rid__alpha=0.9, rid__solver=sag .................................\n",
      "[CV] ..... rid__alpha=0.9, rid__solver=sag, score=0.887, total=   1.8s\n",
      "[CV] rid__alpha=0.9, rid__solver=lsqr ................................\n",
      "[CV] .... rid__alpha=0.9, rid__solver=lsqr, score=0.886, total=   0.3s\n",
      "[CV] rid__alpha=0.9, rid__solver=lsqr ................................\n",
      "[CV] .... rid__alpha=0.9, rid__solver=lsqr, score=0.886, total=   0.3s\n",
      "[CV] rid__alpha=0.9, rid__solver=lsqr ................................\n",
      "[CV] .... rid__alpha=0.9, rid__solver=lsqr, score=0.886, total=   0.3s\n",
      "[CV] rid__alpha=0.9, rid__solver=lsqr ................................\n",
      "[CV] .... rid__alpha=0.9, rid__solver=lsqr, score=0.887, total=   0.3s\n",
      "[CV] rid__alpha=0.9, rid__solver=lsqr ................................\n",
      "[CV] .... rid__alpha=0.9, rid__solver=lsqr, score=0.887, total=   0.3s\n",
      "[CV] rid__alpha=0.9, rid__solver=svd .................................\n",
      "[CV] ..... rid__alpha=0.9, rid__solver=svd, score=0.886, total=   0.3s\n",
      "[CV] rid__alpha=0.9, rid__solver=svd .................................\n",
      "[CV] ..... rid__alpha=0.9, rid__solver=svd, score=0.886, total=   0.3s\n",
      "[CV] rid__alpha=0.9, rid__solver=svd .................................\n",
      "[CV] ..... rid__alpha=0.9, rid__solver=svd, score=0.886, total=   0.3s\n",
      "[CV] rid__alpha=0.9, rid__solver=svd .................................\n",
      "[CV] ..... rid__alpha=0.9, rid__solver=svd, score=0.887, total=   0.3s\n",
      "[CV] rid__alpha=0.9, rid__solver=svd .................................\n",
      "[CV] ..... rid__alpha=0.9, rid__solver=svd, score=0.887, total=   0.3s\n",
      "[CV] rid__alpha=0.9, rid__solver=cholesky ............................\n",
      "[CV]  rid__alpha=0.9, rid__solver=cholesky, score=0.886, total=   0.2s\n",
      "[CV] rid__alpha=0.9, rid__solver=cholesky ............................\n"
     ]
    },
    {
     "name": "stdout",
     "output_type": "stream",
     "text": [
      "[CV]  rid__alpha=0.9, rid__solver=cholesky, score=0.886, total=   0.2s\n",
      "[CV] rid__alpha=0.9, rid__solver=cholesky ............................\n",
      "[CV]  rid__alpha=0.9, rid__solver=cholesky, score=0.886, total=   0.2s\n",
      "[CV] rid__alpha=0.9, rid__solver=cholesky ............................\n",
      "[CV]  rid__alpha=0.9, rid__solver=cholesky, score=0.887, total=   0.2s\n",
      "[CV] rid__alpha=0.9, rid__solver=cholesky ............................\n",
      "[CV]  rid__alpha=0.9, rid__solver=cholesky, score=0.887, total=   0.2s\n",
      "[CV] rid__alpha=1.0, rid__solver=sag .................................\n",
      "[CV] ..... rid__alpha=1.0, rid__solver=sag, score=0.886, total=   1.8s\n",
      "[CV] rid__alpha=1.0, rid__solver=sag .................................\n",
      "[CV] ..... rid__alpha=1.0, rid__solver=sag, score=0.886, total=   1.7s\n",
      "[CV] rid__alpha=1.0, rid__solver=sag .................................\n",
      "[CV] ..... rid__alpha=1.0, rid__solver=sag, score=0.886, total=   1.7s\n",
      "[CV] rid__alpha=1.0, rid__solver=sag .................................\n",
      "[CV] ..... rid__alpha=1.0, rid__solver=sag, score=0.887, total=   1.8s\n",
      "[CV] rid__alpha=1.0, rid__solver=sag .................................\n",
      "[CV] ..... rid__alpha=1.0, rid__solver=sag, score=0.887, total=   1.9s\n",
      "[CV] rid__alpha=1.0, rid__solver=lsqr ................................\n",
      "[CV] .... rid__alpha=1.0, rid__solver=lsqr, score=0.886, total=   0.3s\n",
      "[CV] rid__alpha=1.0, rid__solver=lsqr ................................\n",
      "[CV] .... rid__alpha=1.0, rid__solver=lsqr, score=0.886, total=   0.3s\n",
      "[CV] rid__alpha=1.0, rid__solver=lsqr ................................\n",
      "[CV] .... rid__alpha=1.0, rid__solver=lsqr, score=0.886, total=   0.3s\n",
      "[CV] rid__alpha=1.0, rid__solver=lsqr ................................\n",
      "[CV] .... rid__alpha=1.0, rid__solver=lsqr, score=0.887, total=   0.3s\n",
      "[CV] rid__alpha=1.0, rid__solver=lsqr ................................\n",
      "[CV] .... rid__alpha=1.0, rid__solver=lsqr, score=0.887, total=   0.3s\n",
      "[CV] rid__alpha=1.0, rid__solver=svd .................................\n",
      "[CV] ..... rid__alpha=1.0, rid__solver=svd, score=0.886, total=   0.3s\n",
      "[CV] rid__alpha=1.0, rid__solver=svd .................................\n",
      "[CV] ..... rid__alpha=1.0, rid__solver=svd, score=0.886, total=   0.3s\n",
      "[CV] rid__alpha=1.0, rid__solver=svd .................................\n",
      "[CV] ..... rid__alpha=1.0, rid__solver=svd, score=0.886, total=   0.3s\n",
      "[CV] rid__alpha=1.0, rid__solver=svd .................................\n",
      "[CV] ..... rid__alpha=1.0, rid__solver=svd, score=0.887, total=   0.3s\n",
      "[CV] rid__alpha=1.0, rid__solver=svd .................................\n",
      "[CV] ..... rid__alpha=1.0, rid__solver=svd, score=0.887, total=   0.3s\n",
      "[CV] rid__alpha=1.0, rid__solver=cholesky ............................\n",
      "[CV]  rid__alpha=1.0, rid__solver=cholesky, score=0.886, total=   0.2s\n",
      "[CV] rid__alpha=1.0, rid__solver=cholesky ............................\n",
      "[CV]  rid__alpha=1.0, rid__solver=cholesky, score=0.886, total=   0.2s\n",
      "[CV] rid__alpha=1.0, rid__solver=cholesky ............................\n",
      "[CV]  rid__alpha=1.0, rid__solver=cholesky, score=0.886, total=   0.2s\n",
      "[CV] rid__alpha=1.0, rid__solver=cholesky ............................\n",
      "[CV]  rid__alpha=1.0, rid__solver=cholesky, score=0.887, total=   0.2s\n",
      "[CV] rid__alpha=1.0, rid__solver=cholesky ............................\n",
      "[CV]  rid__alpha=1.0, rid__solver=cholesky, score=0.887, total=   0.2s\n"
     ]
    },
    {
     "name": "stderr",
     "output_type": "stream",
     "text": [
      "[Parallel(n_jobs=1)]: Done 200 out of 200 | elapsed:  2.3min finished\n"
     ]
    },
    {
     "data": {
      "text/plain": [
       "GridSearchCV(cv=StratifiedShuffleSplit(n_splits=5, random_state=14, test_size=0.3,\n",
       "            train_size=None),\n",
       "             estimator=Pipeline(steps=[('scaler', MinMaxScaler()),\n",
       "                                       ('rid', RidgeClassifier())]),\n",
       "             param_grid={'rid__alpha': [0.1, 0.2, 0.3, 0.4, 0.5, 0.6, 0.7, 0.8,\n",
       "                                        0.9, 1.0],\n",
       "                         'rid__solver': ['sag', 'lsqr', 'svd', 'cholesky']},\n",
       "             scoring='accuracy', verbose=3)"
      ]
     },
     "execution_count": 37,
     "metadata": {},
     "output_type": "execute_result"
    }
   ],
   "source": [
    "from sklearn.model_selection import GridSearchCV\n",
    "\n",
    "pipe = Pipeline([('scaler', MinMaxScaler()), ('rid', RidgeClassifier())])\n",
    "grid = {'rid__alpha': [0.1, 0.2, 0.3, 0.4, 0.5, 0.6, 0.7, 0.8, 0.9, 1.0], 'rid__solver': ['sag','lsqr', 'svd','cholesky']}\n",
    "\n",
    "search = GridSearchCV(pipe, grid, scoring = 'accuracy', cv=sss, verbose=3)\n",
    "search.fit(X_train_sel, y_train)"
   ]
  },
  {
   "cell_type": "markdown",
   "metadata": {},
   "source": [
    "Checking the best parameters and the score:"
   ]
  },
  {
   "cell_type": "code",
   "execution_count": 38,
   "metadata": {},
   "outputs": [
    {
     "data": {
      "text/html": [
       "<div>\n",
       "<style scoped>\n",
       "    .dataframe tbody tr th:only-of-type {\n",
       "        vertical-align: middle;\n",
       "    }\n",
       "\n",
       "    .dataframe tbody tr th {\n",
       "        vertical-align: top;\n",
       "    }\n",
       "\n",
       "    .dataframe thead th {\n",
       "        text-align: right;\n",
       "    }\n",
       "</style>\n",
       "<table border=\"1\" class=\"dataframe\">\n",
       "  <thead>\n",
       "    <tr style=\"text-align: right;\">\n",
       "      <th></th>\n",
       "      <th>mean_fit_time</th>\n",
       "      <th>std_fit_time</th>\n",
       "      <th>mean_score_time</th>\n",
       "      <th>std_score_time</th>\n",
       "      <th>param_rid__alpha</th>\n",
       "      <th>param_rid__solver</th>\n",
       "      <th>params</th>\n",
       "      <th>split0_test_score</th>\n",
       "      <th>split1_test_score</th>\n",
       "      <th>split2_test_score</th>\n",
       "      <th>split3_test_score</th>\n",
       "      <th>split4_test_score</th>\n",
       "      <th>mean_test_score</th>\n",
       "      <th>std_test_score</th>\n",
       "      <th>rank_test_score</th>\n",
       "    </tr>\n",
       "  </thead>\n",
       "  <tbody>\n",
       "    <tr>\n",
       "      <th>0</th>\n",
       "      <td>2.121480</td>\n",
       "      <td>0.214477</td>\n",
       "      <td>0.016204</td>\n",
       "      <td>4.004003e-04</td>\n",
       "      <td>0.1</td>\n",
       "      <td>sag</td>\n",
       "      <td>{'rid__alpha': 0.1, 'rid__solver': 'sag'}</td>\n",
       "      <td>0.885913</td>\n",
       "      <td>0.886329</td>\n",
       "      <td>0.885744</td>\n",
       "      <td>0.886834</td>\n",
       "      <td>0.887183</td>\n",
       "      <td>0.886401</td>\n",
       "      <td>0.000543</td>\n",
       "      <td>1</td>\n",
       "    </tr>\n",
       "    <tr>\n",
       "      <th>1</th>\n",
       "      <td>0.280863</td>\n",
       "      <td>0.013139</td>\n",
       "      <td>0.018805</td>\n",
       "      <td>1.327603e-03</td>\n",
       "      <td>0.1</td>\n",
       "      <td>lsqr</td>\n",
       "      <td>{'rid__alpha': 0.1, 'rid__solver': 'lsqr'}</td>\n",
       "      <td>0.885913</td>\n",
       "      <td>0.886329</td>\n",
       "      <td>0.885744</td>\n",
       "      <td>0.886834</td>\n",
       "      <td>0.887183</td>\n",
       "      <td>0.886401</td>\n",
       "      <td>0.000543</td>\n",
       "      <td>1</td>\n",
       "    </tr>\n",
       "    <tr>\n",
       "      <th>2</th>\n",
       "      <td>0.276445</td>\n",
       "      <td>0.004461</td>\n",
       "      <td>0.018705</td>\n",
       "      <td>7.480145e-04</td>\n",
       "      <td>0.1</td>\n",
       "      <td>svd</td>\n",
       "      <td>{'rid__alpha': 0.1, 'rid__solver': 'svd'}</td>\n",
       "      <td>0.885913</td>\n",
       "      <td>0.886329</td>\n",
       "      <td>0.885744</td>\n",
       "      <td>0.886834</td>\n",
       "      <td>0.887183</td>\n",
       "      <td>0.886401</td>\n",
       "      <td>0.000543</td>\n",
       "      <td>1</td>\n",
       "    </tr>\n",
       "    <tr>\n",
       "      <th>3</th>\n",
       "      <td>0.195244</td>\n",
       "      <td>0.013321</td>\n",
       "      <td>0.018005</td>\n",
       "      <td>8.957493e-04</td>\n",
       "      <td>0.1</td>\n",
       "      <td>cholesky</td>\n",
       "      <td>{'rid__alpha': 0.1, 'rid__solver': 'cholesky'}</td>\n",
       "      <td>0.885913</td>\n",
       "      <td>0.886329</td>\n",
       "      <td>0.885744</td>\n",
       "      <td>0.886834</td>\n",
       "      <td>0.887183</td>\n",
       "      <td>0.886401</td>\n",
       "      <td>0.000543</td>\n",
       "      <td>1</td>\n",
       "    </tr>\n",
       "    <tr>\n",
       "      <th>4</th>\n",
       "      <td>2.054513</td>\n",
       "      <td>0.040917</td>\n",
       "      <td>0.016004</td>\n",
       "      <td>4.909339e-07</td>\n",
       "      <td>0.2</td>\n",
       "      <td>sag</td>\n",
       "      <td>{'rid__alpha': 0.2, 'rid__solver': 'sag'}</td>\n",
       "      <td>0.885913</td>\n",
       "      <td>0.886329</td>\n",
       "      <td>0.885744</td>\n",
       "      <td>0.886834</td>\n",
       "      <td>0.887183</td>\n",
       "      <td>0.886401</td>\n",
       "      <td>0.000543</td>\n",
       "      <td>1</td>\n",
       "    </tr>\n",
       "    <tr>\n",
       "      <th>5</th>\n",
       "      <td>0.266660</td>\n",
       "      <td>0.012013</td>\n",
       "      <td>0.017404</td>\n",
       "      <td>8.000612e-04</td>\n",
       "      <td>0.2</td>\n",
       "      <td>lsqr</td>\n",
       "      <td>{'rid__alpha': 0.2, 'rid__solver': 'lsqr'}</td>\n",
       "      <td>0.885913</td>\n",
       "      <td>0.886329</td>\n",
       "      <td>0.885744</td>\n",
       "      <td>0.886834</td>\n",
       "      <td>0.887183</td>\n",
       "      <td>0.886401</td>\n",
       "      <td>0.000543</td>\n",
       "      <td>1</td>\n",
       "    </tr>\n",
       "    <tr>\n",
       "      <th>6</th>\n",
       "      <td>0.266461</td>\n",
       "      <td>0.009267</td>\n",
       "      <td>0.019604</td>\n",
       "      <td>2.871442e-03</td>\n",
       "      <td>0.2</td>\n",
       "      <td>svd</td>\n",
       "      <td>{'rid__alpha': 0.2, 'rid__solver': 'svd'}</td>\n",
       "      <td>0.885913</td>\n",
       "      <td>0.886329</td>\n",
       "      <td>0.885744</td>\n",
       "      <td>0.886834</td>\n",
       "      <td>0.887183</td>\n",
       "      <td>0.886401</td>\n",
       "      <td>0.000543</td>\n",
       "      <td>1</td>\n",
       "    </tr>\n",
       "    <tr>\n",
       "      <th>7</th>\n",
       "      <td>0.192643</td>\n",
       "      <td>0.011502</td>\n",
       "      <td>0.017005</td>\n",
       "      <td>1.095801e-03</td>\n",
       "      <td>0.2</td>\n",
       "      <td>cholesky</td>\n",
       "      <td>{'rid__alpha': 0.2, 'rid__solver': 'cholesky'}</td>\n",
       "      <td>0.885913</td>\n",
       "      <td>0.886329</td>\n",
       "      <td>0.885744</td>\n",
       "      <td>0.886834</td>\n",
       "      <td>0.887183</td>\n",
       "      <td>0.886401</td>\n",
       "      <td>0.000543</td>\n",
       "      <td>1</td>\n",
       "    </tr>\n",
       "    <tr>\n",
       "      <th>8</th>\n",
       "      <td>2.009655</td>\n",
       "      <td>0.100401</td>\n",
       "      <td>0.015804</td>\n",
       "      <td>4.002097e-04</td>\n",
       "      <td>0.3</td>\n",
       "      <td>sag</td>\n",
       "      <td>{'rid__alpha': 0.3, 'rid__solver': 'sag'}</td>\n",
       "      <td>0.885913</td>\n",
       "      <td>0.886329</td>\n",
       "      <td>0.885744</td>\n",
       "      <td>0.886834</td>\n",
       "      <td>0.887183</td>\n",
       "      <td>0.886401</td>\n",
       "      <td>0.000543</td>\n",
       "      <td>1</td>\n",
       "    </tr>\n",
       "    <tr>\n",
       "      <th>9</th>\n",
       "      <td>0.272461</td>\n",
       "      <td>0.014168</td>\n",
       "      <td>0.018805</td>\n",
       "      <td>3.993750e-04</td>\n",
       "      <td>0.3</td>\n",
       "      <td>lsqr</td>\n",
       "      <td>{'rid__alpha': 0.3, 'rid__solver': 'lsqr'}</td>\n",
       "      <td>0.885913</td>\n",
       "      <td>0.886329</td>\n",
       "      <td>0.885744</td>\n",
       "      <td>0.886834</td>\n",
       "      <td>0.887183</td>\n",
       "      <td>0.886401</td>\n",
       "      <td>0.000543</td>\n",
       "      <td>1</td>\n",
       "    </tr>\n",
       "    <tr>\n",
       "      <th>10</th>\n",
       "      <td>0.280845</td>\n",
       "      <td>0.010713</td>\n",
       "      <td>0.019529</td>\n",
       "      <td>1.001378e-03</td>\n",
       "      <td>0.3</td>\n",
       "      <td>svd</td>\n",
       "      <td>{'rid__alpha': 0.3, 'rid__solver': 'svd'}</td>\n",
       "      <td>0.885913</td>\n",
       "      <td>0.886329</td>\n",
       "      <td>0.885744</td>\n",
       "      <td>0.886834</td>\n",
       "      <td>0.887183</td>\n",
       "      <td>0.886401</td>\n",
       "      <td>0.000543</td>\n",
       "      <td>1</td>\n",
       "    </tr>\n",
       "    <tr>\n",
       "      <th>11</th>\n",
       "      <td>0.197656</td>\n",
       "      <td>0.011704</td>\n",
       "      <td>0.017315</td>\n",
       "      <td>6.062367e-04</td>\n",
       "      <td>0.3</td>\n",
       "      <td>cholesky</td>\n",
       "      <td>{'rid__alpha': 0.3, 'rid__solver': 'cholesky'}</td>\n",
       "      <td>0.885913</td>\n",
       "      <td>0.886329</td>\n",
       "      <td>0.885744</td>\n",
       "      <td>0.886834</td>\n",
       "      <td>0.887183</td>\n",
       "      <td>0.886401</td>\n",
       "      <td>0.000543</td>\n",
       "      <td>1</td>\n",
       "    </tr>\n",
       "    <tr>\n",
       "      <th>12</th>\n",
       "      <td>2.034872</td>\n",
       "      <td>0.127537</td>\n",
       "      <td>0.016005</td>\n",
       "      <td>6.312798e-04</td>\n",
       "      <td>0.4</td>\n",
       "      <td>sag</td>\n",
       "      <td>{'rid__alpha': 0.4, 'rid__solver': 'sag'}</td>\n",
       "      <td>0.885913</td>\n",
       "      <td>0.886329</td>\n",
       "      <td>0.885744</td>\n",
       "      <td>0.886834</td>\n",
       "      <td>0.887183</td>\n",
       "      <td>0.886401</td>\n",
       "      <td>0.000543</td>\n",
       "      <td>1</td>\n",
       "    </tr>\n",
       "    <tr>\n",
       "      <th>13</th>\n",
       "      <td>0.272262</td>\n",
       "      <td>0.004262</td>\n",
       "      <td>0.019004</td>\n",
       "      <td>1.549635e-03</td>\n",
       "      <td>0.4</td>\n",
       "      <td>lsqr</td>\n",
       "      <td>{'rid__alpha': 0.4, 'rid__solver': 'lsqr'}</td>\n",
       "      <td>0.885913</td>\n",
       "      <td>0.886329</td>\n",
       "      <td>0.885744</td>\n",
       "      <td>0.886834</td>\n",
       "      <td>0.887183</td>\n",
       "      <td>0.886401</td>\n",
       "      <td>0.000543</td>\n",
       "      <td>1</td>\n",
       "    </tr>\n",
       "    <tr>\n",
       "      <th>14</th>\n",
       "      <td>0.272862</td>\n",
       "      <td>0.008209</td>\n",
       "      <td>0.019004</td>\n",
       "      <td>1.673370e-03</td>\n",
       "      <td>0.4</td>\n",
       "      <td>svd</td>\n",
       "      <td>{'rid__alpha': 0.4, 'rid__solver': 'svd'}</td>\n",
       "      <td>0.885913</td>\n",
       "      <td>0.886329</td>\n",
       "      <td>0.885744</td>\n",
       "      <td>0.886834</td>\n",
       "      <td>0.887183</td>\n",
       "      <td>0.886401</td>\n",
       "      <td>0.000543</td>\n",
       "      <td>1</td>\n",
       "    </tr>\n",
       "    <tr>\n",
       "      <th>15</th>\n",
       "      <td>0.187242</td>\n",
       "      <td>0.009066</td>\n",
       "      <td>0.016204</td>\n",
       "      <td>3.998518e-04</td>\n",
       "      <td>0.4</td>\n",
       "      <td>cholesky</td>\n",
       "      <td>{'rid__alpha': 0.4, 'rid__solver': 'cholesky'}</td>\n",
       "      <td>0.885913</td>\n",
       "      <td>0.886329</td>\n",
       "      <td>0.885744</td>\n",
       "      <td>0.886834</td>\n",
       "      <td>0.887183</td>\n",
       "      <td>0.886401</td>\n",
       "      <td>0.000543</td>\n",
       "      <td>1</td>\n",
       "    </tr>\n",
       "    <tr>\n",
       "      <th>16</th>\n",
       "      <td>1.917434</td>\n",
       "      <td>0.138289</td>\n",
       "      <td>0.015603</td>\n",
       "      <td>4.903298e-04</td>\n",
       "      <td>0.5</td>\n",
       "      <td>sag</td>\n",
       "      <td>{'rid__alpha': 0.5, 'rid__solver': 'sag'}</td>\n",
       "      <td>0.885913</td>\n",
       "      <td>0.886329</td>\n",
       "      <td>0.885744</td>\n",
       "      <td>0.886834</td>\n",
       "      <td>0.887183</td>\n",
       "      <td>0.886401</td>\n",
       "      <td>0.000543</td>\n",
       "      <td>1</td>\n",
       "    </tr>\n",
       "    <tr>\n",
       "      <th>17</th>\n",
       "      <td>0.278063</td>\n",
       "      <td>0.012980</td>\n",
       "      <td>0.019405</td>\n",
       "      <td>1.496656e-03</td>\n",
       "      <td>0.5</td>\n",
       "      <td>lsqr</td>\n",
       "      <td>{'rid__alpha': 0.5, 'rid__solver': 'lsqr'}</td>\n",
       "      <td>0.885913</td>\n",
       "      <td>0.886329</td>\n",
       "      <td>0.885744</td>\n",
       "      <td>0.886834</td>\n",
       "      <td>0.887183</td>\n",
       "      <td>0.886401</td>\n",
       "      <td>0.000543</td>\n",
       "      <td>1</td>\n",
       "    </tr>\n",
       "    <tr>\n",
       "      <th>18</th>\n",
       "      <td>0.269861</td>\n",
       "      <td>0.006401</td>\n",
       "      <td>0.019004</td>\n",
       "      <td>6.329378e-04</td>\n",
       "      <td>0.5</td>\n",
       "      <td>svd</td>\n",
       "      <td>{'rid__alpha': 0.5, 'rid__solver': 'svd'}</td>\n",
       "      <td>0.885913</td>\n",
       "      <td>0.886329</td>\n",
       "      <td>0.885744</td>\n",
       "      <td>0.886834</td>\n",
       "      <td>0.887183</td>\n",
       "      <td>0.886401</td>\n",
       "      <td>0.000543</td>\n",
       "      <td>1</td>\n",
       "    </tr>\n",
       "    <tr>\n",
       "      <th>19</th>\n",
       "      <td>0.197645</td>\n",
       "      <td>0.008548</td>\n",
       "      <td>0.018804</td>\n",
       "      <td>1.833121e-03</td>\n",
       "      <td>0.5</td>\n",
       "      <td>cholesky</td>\n",
       "      <td>{'rid__alpha': 0.5, 'rid__solver': 'cholesky'}</td>\n",
       "      <td>0.885913</td>\n",
       "      <td>0.886329</td>\n",
       "      <td>0.885744</td>\n",
       "      <td>0.886834</td>\n",
       "      <td>0.887183</td>\n",
       "      <td>0.886401</td>\n",
       "      <td>0.000543</td>\n",
       "      <td>1</td>\n",
       "    </tr>\n",
       "    <tr>\n",
       "      <th>20</th>\n",
       "      <td>2.010981</td>\n",
       "      <td>0.165618</td>\n",
       "      <td>0.016409</td>\n",
       "      <td>1.028073e-03</td>\n",
       "      <td>0.6</td>\n",
       "      <td>sag</td>\n",
       "      <td>{'rid__alpha': 0.6, 'rid__solver': 'sag'}</td>\n",
       "      <td>0.885913</td>\n",
       "      <td>0.886329</td>\n",
       "      <td>0.885744</td>\n",
       "      <td>0.886834</td>\n",
       "      <td>0.887183</td>\n",
       "      <td>0.886401</td>\n",
       "      <td>0.000543</td>\n",
       "      <td>1</td>\n",
       "    </tr>\n",
       "    <tr>\n",
       "      <th>21</th>\n",
       "      <td>0.268294</td>\n",
       "      <td>0.006731</td>\n",
       "      <td>0.018804</td>\n",
       "      <td>1.469918e-03</td>\n",
       "      <td>0.6</td>\n",
       "      <td>lsqr</td>\n",
       "      <td>{'rid__alpha': 0.6, 'rid__solver': 'lsqr'}</td>\n",
       "      <td>0.885913</td>\n",
       "      <td>0.886329</td>\n",
       "      <td>0.885744</td>\n",
       "      <td>0.886834</td>\n",
       "      <td>0.887183</td>\n",
       "      <td>0.886401</td>\n",
       "      <td>0.000543</td>\n",
       "      <td>1</td>\n",
       "    </tr>\n",
       "    <tr>\n",
       "      <th>22</th>\n",
       "      <td>0.273462</td>\n",
       "      <td>0.005500</td>\n",
       "      <td>0.019405</td>\n",
       "      <td>1.356740e-03</td>\n",
       "      <td>0.6</td>\n",
       "      <td>svd</td>\n",
       "      <td>{'rid__alpha': 0.6, 'rid__solver': 'svd'}</td>\n",
       "      <td>0.885913</td>\n",
       "      <td>0.886329</td>\n",
       "      <td>0.885744</td>\n",
       "      <td>0.886834</td>\n",
       "      <td>0.887183</td>\n",
       "      <td>0.886401</td>\n",
       "      <td>0.000543</td>\n",
       "      <td>1</td>\n",
       "    </tr>\n",
       "    <tr>\n",
       "      <th>23</th>\n",
       "      <td>0.188842</td>\n",
       "      <td>0.011217</td>\n",
       "      <td>0.016404</td>\n",
       "      <td>1.019889e-03</td>\n",
       "      <td>0.6</td>\n",
       "      <td>cholesky</td>\n",
       "      <td>{'rid__alpha': 0.6, 'rid__solver': 'cholesky'}</td>\n",
       "      <td>0.885913</td>\n",
       "      <td>0.886329</td>\n",
       "      <td>0.885744</td>\n",
       "      <td>0.886834</td>\n",
       "      <td>0.887183</td>\n",
       "      <td>0.886401</td>\n",
       "      <td>0.000543</td>\n",
       "      <td>1</td>\n",
       "    </tr>\n",
       "    <tr>\n",
       "      <th>24</th>\n",
       "      <td>1.877426</td>\n",
       "      <td>0.114575</td>\n",
       "      <td>0.016203</td>\n",
       "      <td>9.798320e-04</td>\n",
       "      <td>0.7</td>\n",
       "      <td>sag</td>\n",
       "      <td>{'rid__alpha': 0.7, 'rid__solver': 'sag'}</td>\n",
       "      <td>0.885913</td>\n",
       "      <td>0.886329</td>\n",
       "      <td>0.885744</td>\n",
       "      <td>0.886834</td>\n",
       "      <td>0.887183</td>\n",
       "      <td>0.886401</td>\n",
       "      <td>0.000543</td>\n",
       "      <td>1</td>\n",
       "    </tr>\n",
       "    <tr>\n",
       "      <th>25</th>\n",
       "      <td>0.267260</td>\n",
       "      <td>0.009706</td>\n",
       "      <td>0.019205</td>\n",
       "      <td>1.166474e-03</td>\n",
       "      <td>0.7</td>\n",
       "      <td>lsqr</td>\n",
       "      <td>{'rid__alpha': 0.7, 'rid__solver': 'lsqr'}</td>\n",
       "      <td>0.885913</td>\n",
       "      <td>0.886329</td>\n",
       "      <td>0.885744</td>\n",
       "      <td>0.886834</td>\n",
       "      <td>0.887183</td>\n",
       "      <td>0.886401</td>\n",
       "      <td>0.000543</td>\n",
       "      <td>1</td>\n",
       "    </tr>\n",
       "    <tr>\n",
       "      <th>26</th>\n",
       "      <td>0.265460</td>\n",
       "      <td>0.006743</td>\n",
       "      <td>0.018204</td>\n",
       "      <td>7.484430e-04</td>\n",
       "      <td>0.7</td>\n",
       "      <td>svd</td>\n",
       "      <td>{'rid__alpha': 0.7, 'rid__solver': 'svd'}</td>\n",
       "      <td>0.885913</td>\n",
       "      <td>0.886329</td>\n",
       "      <td>0.885744</td>\n",
       "      <td>0.886834</td>\n",
       "      <td>0.887183</td>\n",
       "      <td>0.886401</td>\n",
       "      <td>0.000543</td>\n",
       "      <td>1</td>\n",
       "    </tr>\n",
       "    <tr>\n",
       "      <th>27</th>\n",
       "      <td>0.188443</td>\n",
       "      <td>0.009565</td>\n",
       "      <td>0.016604</td>\n",
       "      <td>4.902717e-04</td>\n",
       "      <td>0.7</td>\n",
       "      <td>cholesky</td>\n",
       "      <td>{'rid__alpha': 0.7, 'rid__solver': 'cholesky'}</td>\n",
       "      <td>0.885913</td>\n",
       "      <td>0.886329</td>\n",
       "      <td>0.885744</td>\n",
       "      <td>0.886834</td>\n",
       "      <td>0.887183</td>\n",
       "      <td>0.886401</td>\n",
       "      <td>0.000543</td>\n",
       "      <td>1</td>\n",
       "    </tr>\n",
       "    <tr>\n",
       "      <th>28</th>\n",
       "      <td>1.855609</td>\n",
       "      <td>0.074883</td>\n",
       "      <td>0.016804</td>\n",
       "      <td>7.483667e-04</td>\n",
       "      <td>0.8</td>\n",
       "      <td>sag</td>\n",
       "      <td>{'rid__alpha': 0.8, 'rid__solver': 'sag'}</td>\n",
       "      <td>0.885913</td>\n",
       "      <td>0.886329</td>\n",
       "      <td>0.885744</td>\n",
       "      <td>0.886834</td>\n",
       "      <td>0.887183</td>\n",
       "      <td>0.886401</td>\n",
       "      <td>0.000543</td>\n",
       "      <td>1</td>\n",
       "    </tr>\n",
       "    <tr>\n",
       "      <th>29</th>\n",
       "      <td>0.268616</td>\n",
       "      <td>0.016516</td>\n",
       "      <td>0.018604</td>\n",
       "      <td>1.019973e-03</td>\n",
       "      <td>0.8</td>\n",
       "      <td>lsqr</td>\n",
       "      <td>{'rid__alpha': 0.8, 'rid__solver': 'lsqr'}</td>\n",
       "      <td>0.885913</td>\n",
       "      <td>0.886329</td>\n",
       "      <td>0.885744</td>\n",
       "      <td>0.886834</td>\n",
       "      <td>0.887183</td>\n",
       "      <td>0.886401</td>\n",
       "      <td>0.000543</td>\n",
       "      <td>1</td>\n",
       "    </tr>\n",
       "    <tr>\n",
       "      <th>30</th>\n",
       "      <td>0.274662</td>\n",
       "      <td>0.012227</td>\n",
       "      <td>0.018404</td>\n",
       "      <td>1.199969e-03</td>\n",
       "      <td>0.8</td>\n",
       "      <td>svd</td>\n",
       "      <td>{'rid__alpha': 0.8, 'rid__solver': 'svd'}</td>\n",
       "      <td>0.885913</td>\n",
       "      <td>0.886329</td>\n",
       "      <td>0.885744</td>\n",
       "      <td>0.886834</td>\n",
       "      <td>0.887183</td>\n",
       "      <td>0.886401</td>\n",
       "      <td>0.000543</td>\n",
       "      <td>1</td>\n",
       "    </tr>\n",
       "    <tr>\n",
       "      <th>31</th>\n",
       "      <td>0.189243</td>\n",
       "      <td>0.013952</td>\n",
       "      <td>0.017204</td>\n",
       "      <td>9.800072e-04</td>\n",
       "      <td>0.8</td>\n",
       "      <td>cholesky</td>\n",
       "      <td>{'rid__alpha': 0.8, 'rid__solver': 'cholesky'}</td>\n",
       "      <td>0.885913</td>\n",
       "      <td>0.886329</td>\n",
       "      <td>0.885744</td>\n",
       "      <td>0.886834</td>\n",
       "      <td>0.887183</td>\n",
       "      <td>0.886401</td>\n",
       "      <td>0.000543</td>\n",
       "      <td>1</td>\n",
       "    </tr>\n",
       "    <tr>\n",
       "      <th>32</th>\n",
       "      <td>1.757798</td>\n",
       "      <td>0.064682</td>\n",
       "      <td>0.016603</td>\n",
       "      <td>1.744024e-03</td>\n",
       "      <td>0.9</td>\n",
       "      <td>sag</td>\n",
       "      <td>{'rid__alpha': 0.9, 'rid__solver': 'sag'}</td>\n",
       "      <td>0.885913</td>\n",
       "      <td>0.886329</td>\n",
       "      <td>0.885744</td>\n",
       "      <td>0.886834</td>\n",
       "      <td>0.887183</td>\n",
       "      <td>0.886401</td>\n",
       "      <td>0.000543</td>\n",
       "      <td>1</td>\n",
       "    </tr>\n",
       "    <tr>\n",
       "      <th>33</th>\n",
       "      <td>0.264857</td>\n",
       "      <td>0.007139</td>\n",
       "      <td>0.017004</td>\n",
       "      <td>6.320331e-04</td>\n",
       "      <td>0.9</td>\n",
       "      <td>lsqr</td>\n",
       "      <td>{'rid__alpha': 0.9, 'rid__solver': 'lsqr'}</td>\n",
       "      <td>0.885913</td>\n",
       "      <td>0.886329</td>\n",
       "      <td>0.885744</td>\n",
       "      <td>0.886834</td>\n",
       "      <td>0.887183</td>\n",
       "      <td>0.886401</td>\n",
       "      <td>0.000543</td>\n",
       "      <td>1</td>\n",
       "    </tr>\n",
       "    <tr>\n",
       "      <th>34</th>\n",
       "      <td>0.266460</td>\n",
       "      <td>0.008334</td>\n",
       "      <td>0.019004</td>\n",
       "      <td>8.946292e-04</td>\n",
       "      <td>0.9</td>\n",
       "      <td>svd</td>\n",
       "      <td>{'rid__alpha': 0.9, 'rid__solver': 'svd'}</td>\n",
       "      <td>0.885913</td>\n",
       "      <td>0.886329</td>\n",
       "      <td>0.885744</td>\n",
       "      <td>0.886834</td>\n",
       "      <td>0.887183</td>\n",
       "      <td>0.886401</td>\n",
       "      <td>0.000543</td>\n",
       "      <td>1</td>\n",
       "    </tr>\n",
       "    <tr>\n",
       "      <th>35</th>\n",
       "      <td>0.190443</td>\n",
       "      <td>0.009004</td>\n",
       "      <td>0.016604</td>\n",
       "      <td>4.901155e-04</td>\n",
       "      <td>0.9</td>\n",
       "      <td>cholesky</td>\n",
       "      <td>{'rid__alpha': 0.9, 'rid__solver': 'cholesky'}</td>\n",
       "      <td>0.885913</td>\n",
       "      <td>0.886329</td>\n",
       "      <td>0.885744</td>\n",
       "      <td>0.886834</td>\n",
       "      <td>0.887183</td>\n",
       "      <td>0.886401</td>\n",
       "      <td>0.000543</td>\n",
       "      <td>1</td>\n",
       "    </tr>\n",
       "    <tr>\n",
       "      <th>36</th>\n",
       "      <td>1.767621</td>\n",
       "      <td>0.077407</td>\n",
       "      <td>0.015980</td>\n",
       "      <td>6.345773e-04</td>\n",
       "      <td>1</td>\n",
       "      <td>sag</td>\n",
       "      <td>{'rid__alpha': 1.0, 'rid__solver': 'sag'}</td>\n",
       "      <td>0.885913</td>\n",
       "      <td>0.886329</td>\n",
       "      <td>0.885744</td>\n",
       "      <td>0.886834</td>\n",
       "      <td>0.887183</td>\n",
       "      <td>0.886401</td>\n",
       "      <td>0.000543</td>\n",
       "      <td>1</td>\n",
       "    </tr>\n",
       "    <tr>\n",
       "      <th>37</th>\n",
       "      <td>0.273462</td>\n",
       "      <td>0.015413</td>\n",
       "      <td>0.018404</td>\n",
       "      <td>8.001925e-04</td>\n",
       "      <td>1</td>\n",
       "      <td>lsqr</td>\n",
       "      <td>{'rid__alpha': 1.0, 'rid__solver': 'lsqr'}</td>\n",
       "      <td>0.885913</td>\n",
       "      <td>0.886329</td>\n",
       "      <td>0.885744</td>\n",
       "      <td>0.886834</td>\n",
       "      <td>0.887183</td>\n",
       "      <td>0.886401</td>\n",
       "      <td>0.000543</td>\n",
       "      <td>1</td>\n",
       "    </tr>\n",
       "    <tr>\n",
       "      <th>38</th>\n",
       "      <td>0.265014</td>\n",
       "      <td>0.005655</td>\n",
       "      <td>0.017832</td>\n",
       "      <td>1.016077e-03</td>\n",
       "      <td>1</td>\n",
       "      <td>svd</td>\n",
       "      <td>{'rid__alpha': 1.0, 'rid__solver': 'svd'}</td>\n",
       "      <td>0.885913</td>\n",
       "      <td>0.886329</td>\n",
       "      <td>0.885744</td>\n",
       "      <td>0.886834</td>\n",
       "      <td>0.887183</td>\n",
       "      <td>0.886401</td>\n",
       "      <td>0.000543</td>\n",
       "      <td>1</td>\n",
       "    </tr>\n",
       "    <tr>\n",
       "      <th>39</th>\n",
       "      <td>0.197445</td>\n",
       "      <td>0.013998</td>\n",
       "      <td>0.016604</td>\n",
       "      <td>4.901156e-04</td>\n",
       "      <td>1</td>\n",
       "      <td>cholesky</td>\n",
       "      <td>{'rid__alpha': 1.0, 'rid__solver': 'cholesky'}</td>\n",
       "      <td>0.885913</td>\n",
       "      <td>0.886329</td>\n",
       "      <td>0.885744</td>\n",
       "      <td>0.886834</td>\n",
       "      <td>0.887183</td>\n",
       "      <td>0.886401</td>\n",
       "      <td>0.000543</td>\n",
       "      <td>1</td>\n",
       "    </tr>\n",
       "  </tbody>\n",
       "</table>\n",
       "</div>"
      ],
      "text/plain": [
       "    mean_fit_time  std_fit_time  ...  std_test_score  rank_test_score\n",
       "0        2.121480      0.214477  ...        0.000543                1\n",
       "1        0.280863      0.013139  ...        0.000543                1\n",
       "2        0.276445      0.004461  ...        0.000543                1\n",
       "3        0.195244      0.013321  ...        0.000543                1\n",
       "4        2.054513      0.040917  ...        0.000543                1\n",
       "5        0.266660      0.012013  ...        0.000543                1\n",
       "6        0.266461      0.009267  ...        0.000543                1\n",
       "7        0.192643      0.011502  ...        0.000543                1\n",
       "8        2.009655      0.100401  ...        0.000543                1\n",
       "9        0.272461      0.014168  ...        0.000543                1\n",
       "10       0.280845      0.010713  ...        0.000543                1\n",
       "11       0.197656      0.011704  ...        0.000543                1\n",
       "12       2.034872      0.127537  ...        0.000543                1\n",
       "13       0.272262      0.004262  ...        0.000543                1\n",
       "14       0.272862      0.008209  ...        0.000543                1\n",
       "15       0.187242      0.009066  ...        0.000543                1\n",
       "16       1.917434      0.138289  ...        0.000543                1\n",
       "17       0.278063      0.012980  ...        0.000543                1\n",
       "18       0.269861      0.006401  ...        0.000543                1\n",
       "19       0.197645      0.008548  ...        0.000543                1\n",
       "20       2.010981      0.165618  ...        0.000543                1\n",
       "21       0.268294      0.006731  ...        0.000543                1\n",
       "22       0.273462      0.005500  ...        0.000543                1\n",
       "23       0.188842      0.011217  ...        0.000543                1\n",
       "24       1.877426      0.114575  ...        0.000543                1\n",
       "25       0.267260      0.009706  ...        0.000543                1\n",
       "26       0.265460      0.006743  ...        0.000543                1\n",
       "27       0.188443      0.009565  ...        0.000543                1\n",
       "28       1.855609      0.074883  ...        0.000543                1\n",
       "29       0.268616      0.016516  ...        0.000543                1\n",
       "30       0.274662      0.012227  ...        0.000543                1\n",
       "31       0.189243      0.013952  ...        0.000543                1\n",
       "32       1.757798      0.064682  ...        0.000543                1\n",
       "33       0.264857      0.007139  ...        0.000543                1\n",
       "34       0.266460      0.008334  ...        0.000543                1\n",
       "35       0.190443      0.009004  ...        0.000543                1\n",
       "36       1.767621      0.077407  ...        0.000543                1\n",
       "37       0.273462      0.015413  ...        0.000543                1\n",
       "38       0.265014      0.005655  ...        0.000543                1\n",
       "39       0.197445      0.013998  ...        0.000543                1\n",
       "\n",
       "[40 rows x 15 columns]"
      ]
     },
     "execution_count": 38,
     "metadata": {},
     "output_type": "execute_result"
    }
   ],
   "source": [
    "pd.DataFrame(search.cv_results_)"
   ]
  },
  {
   "cell_type": "markdown",
   "metadata": {},
   "source": [
    "In the above dataframe we see that we didn't achieved much better results. In fact, the default values for the Ridge Classifier (alpha=1, solver=auto) had a score of 0.886401 (as we can see before the GridSearch), while our best score in the GridSearch was 0.886402 (as you can see below)."
   ]
  },
  {
   "cell_type": "code",
   "execution_count": 39,
   "metadata": {},
   "outputs": [
    {
     "name": "stdout",
     "output_type": "stream",
     "text": [
      "{'rid__alpha': 0.1, 'rid__solver': 'sag'}\n",
      "0.8864005754942845\n"
     ]
    }
   ],
   "source": [
    "print(search.best_params_)\n",
    "print(search.best_score_)"
   ]
  },
  {
   "cell_type": "markdown",
   "metadata": {},
   "source": [
    "We now use the RidgeClassifier in 'production' with the parameters that we found (just for the sake of it, even though the accuracy gain is negligible):"
   ]
  },
  {
   "cell_type": "code",
   "execution_count": 40,
   "metadata": {},
   "outputs": [],
   "source": [
    "#selecting the features for the test data based on our prior training data\n",
    "X_test_sel = selector.transform(X_test)\n",
    "#scaling the test data based on training data\n",
    "scaler = MinMaxScaler()\n",
    "X_train_sel = scaler.fit_transform(X_train_sel)\n",
    "X_test_sel = scaler.transform(X_test_sel)"
   ]
  },
  {
   "cell_type": "code",
   "execution_count": 41,
   "metadata": {},
   "outputs": [
    {
     "name": "stdout",
     "output_type": "stream",
     "text": [
      "Classification Report: \n",
      " \n",
      "              precision    recall  f1-score   support\n",
      "\n",
      "           0       1.00      0.43      0.60     14668\n",
      "           1       0.88      1.00      0.93     59471\n",
      "\n",
      "    accuracy                           0.89     74139\n",
      "   macro avg       0.94      0.71      0.77     74139\n",
      "weighted avg       0.90      0.89      0.87     74139\n",
      "\n"
     ]
    }
   ],
   "source": [
    "from sklearn.metrics import classification_report\n",
    "\n",
    "clf = RidgeClassifier(alpha = 0.3, solver = 'lsqr')\n",
    "clf.fit(X_train_sel, y_train)\n",
    "preds = clf.predict(X_test_sel)\n",
    "\n",
    "print('Classification Report: \\n \\n' + classification_report(y_test, preds))"
   ]
  },
  {
   "cell_type": "markdown",
   "metadata": {},
   "source": [
    "So now, in production, our model performed well. Also, as expected, we had a **low recall score for the 0 category** (the 'Charged Off') since, as we pointed out in the beginning, we had way more data for the 1 category than the the 0 one.\n",
    "\n",
    "Considering real-world applications, this model would be great in a **first analysis** since it has a 1.00 precision score for the zero category (i.e., if this model says the person will not pay the loan, then we have a high chance (nothing is 100%...) that it indeed won't pay). This model, however, couldn't find all the non-payers in the training (hence the low recall).\n",
    "\n",
    "Now, just out of curiosity, let's use a Neural Network to see if we can obtain a model that is better at this metric. Also, we'll train the NN with all features.\n"
   ]
  },
  {
   "cell_type": "markdown",
   "metadata": {},
   "source": [
    "### Neural Network"
   ]
  },
  {
   "cell_type": "code",
   "execution_count": 42,
   "metadata": {},
   "outputs": [
    {
     "name": "stdout",
     "output_type": "stream",
     "text": [
      "Epoch 1/300\n",
      "1159/1159 [==============================] - 1s 1ms/step - loss: 0.2923 - val_loss: 0.2651\n",
      "Epoch 2/300\n",
      "1159/1159 [==============================] - 1s 1ms/step - loss: 0.2644 - val_loss: 0.2634\n",
      "Epoch 3/300\n",
      "1159/1159 [==============================] - 1s 1ms/step - loss: 0.2632 - val_loss: 0.2623\n",
      "Epoch 4/300\n",
      "1159/1159 [==============================] - 1s 1ms/step - loss: 0.2621 - val_loss: 0.2627\n",
      "Epoch 5/300\n",
      "1159/1159 [==============================] - 1s 1ms/step - loss: 0.2618 - val_loss: 0.2612\n",
      "Epoch 6/300\n",
      "1159/1159 [==============================] - 1s 1ms/step - loss: 0.2611 - val_loss: 0.2603\n",
      "Epoch 7/300\n",
      "1159/1159 [==============================] - 1s 1ms/step - loss: 0.2606 - val_loss: 0.2599\n",
      "Epoch 8/300\n",
      "1159/1159 [==============================] - 1s 1ms/step - loss: 0.2603 - val_loss: 0.2632\n",
      "Epoch 9/300\n",
      "1159/1159 [==============================] - 1s 1ms/step - loss: 0.2603 - val_loss: 0.2607\n",
      "Epoch 10/300\n",
      "1159/1159 [==============================] - 1s 1ms/step - loss: 0.2600 - val_loss: 0.2618\n",
      "Epoch 11/300\n",
      "1159/1159 [==============================] - 1s 1ms/step - loss: 0.2597 - val_loss: 0.2597\n",
      "Epoch 12/300\n",
      "1159/1159 [==============================] - 1s 1ms/step - loss: 0.2595 - val_loss: 0.2607\n",
      "Epoch 13/300\n",
      "1159/1159 [==============================] - 1s 1ms/step - loss: 0.2590 - val_loss: 0.2602\n",
      "Epoch 14/300\n",
      "1159/1159 [==============================] - 1s 1ms/step - loss: 0.2589 - val_loss: 0.2597\n",
      "Epoch 15/300\n",
      "1159/1159 [==============================] - 1s 1ms/step - loss: 0.2585 - val_loss: 0.2598\n",
      "Epoch 16/300\n",
      "1159/1159 [==============================] - 1s 1ms/step - loss: 0.2583 - val_loss: 0.2596\n",
      "Epoch 17/300\n",
      "1159/1159 [==============================] - 1s 1ms/step - loss: 0.2584 - val_loss: 0.2595\n",
      "Epoch 18/300\n",
      "1159/1159 [==============================] - 1s 1ms/step - loss: 0.2581 - val_loss: 0.2601\n",
      "Epoch 19/300\n",
      "1159/1159 [==============================] - 1s 1ms/step - loss: 0.2580 - val_loss: 0.2621\n",
      "Epoch 20/300\n",
      "1159/1159 [==============================] - 1s 1ms/step - loss: 0.2579 - val_loss: 0.2592\n",
      "Epoch 21/300\n",
      "1159/1159 [==============================] - 1s 1ms/step - loss: 0.2576 - val_loss: 0.2596\n",
      "Epoch 22/300\n",
      "1159/1159 [==============================] - 1s 1ms/step - loss: 0.2574 - val_loss: 0.2593\n",
      "Epoch 23/300\n",
      "1159/1159 [==============================] - 1s 1ms/step - loss: 0.2575 - val_loss: 0.2607\n",
      "Epoch 24/300\n",
      "1159/1159 [==============================] - 1s 1ms/step - loss: 0.2571 - val_loss: 0.2596\n",
      "Epoch 25/300\n",
      "1159/1159 [==============================] - 1s 1ms/step - loss: 0.2572 - val_loss: 0.2594\n",
      "Epoch 26/300\n",
      "1159/1159 [==============================] - 1s 1ms/step - loss: 0.2570 - val_loss: 0.2593\n",
      "Epoch 27/300\n",
      "1159/1159 [==============================] - 1s 1ms/step - loss: 0.2567 - val_loss: 0.2596\n",
      "Epoch 28/300\n",
      "1159/1159 [==============================] - 1s 1ms/step - loss: 0.2566 - val_loss: 0.2593\n",
      "Epoch 29/300\n",
      "1159/1159 [==============================] - 1s 1ms/step - loss: 0.2565 - val_loss: 0.2594\n",
      "Epoch 30/300\n",
      "1159/1159 [==============================] - 2s 2ms/step - loss: 0.2564 - val_loss: 0.2596\n",
      "Epoch 31/300\n",
      "1159/1159 [==============================] - 2s 2ms/step - loss: 0.2562 - val_loss: 0.2595\n",
      "Epoch 32/300\n",
      "1159/1159 [==============================] - 2s 1ms/step - loss: 0.2563 - val_loss: 0.2600\n",
      "Epoch 33/300\n",
      "1159/1159 [==============================] - 2s 1ms/step - loss: 0.2561 - val_loss: 0.2598\n",
      "Epoch 34/300\n",
      "1159/1159 [==============================] - 2s 1ms/step - loss: 0.2559 - val_loss: 0.2609\n",
      "Epoch 35/300\n",
      "1159/1159 [==============================] - 1s 1ms/step - loss: 0.2558 - val_loss: 0.2598\n",
      "Epoch 36/300\n",
      "1159/1159 [==============================] - 1s 1ms/step - loss: 0.2557 - val_loss: 0.2593\n",
      "Epoch 37/300\n",
      "1159/1159 [==============================] - 1s 1ms/step - loss: 0.2555 - val_loss: 0.2596\n",
      "Epoch 38/300\n",
      "1159/1159 [==============================] - 1s 1ms/step - loss: 0.2553 - val_loss: 0.2600\n",
      "Epoch 39/300\n",
      "1159/1159 [==============================] - 1s 1ms/step - loss: 0.2553 - val_loss: 0.2596\n",
      "Epoch 40/300\n",
      "1159/1159 [==============================] - 1s 1ms/step - loss: 0.2552 - val_loss: 0.2619\n",
      "Epoch 41/300\n",
      "1159/1159 [==============================] - 1s 1ms/step - loss: 0.2550 - val_loss: 0.2598\n",
      "Epoch 42/300\n",
      "1159/1159 [==============================] - 1s 1ms/step - loss: 0.2549 - val_loss: 0.2609\n",
      "Epoch 43/300\n",
      "1159/1159 [==============================] - 1s 1ms/step - loss: 0.2549 - val_loss: 0.2604\n",
      "Epoch 44/300\n",
      "1159/1159 [==============================] - 1s 1ms/step - loss: 0.2547 - val_loss: 0.2606\n",
      "Epoch 45/300\n",
      "1159/1159 [==============================] - 1s 1ms/step - loss: 0.2546 - val_loss: 0.2631\n",
      "Epoch 00045: early stopping\n"
     ]
    },
    {
     "data": {
      "text/plain": [
       "<tensorflow.python.keras.callbacks.History at 0x26f15ed2fd0>"
      ]
     },
     "execution_count": 42,
     "metadata": {},
     "output_type": "execute_result"
    }
   ],
   "source": [
    "from tensorflow.keras.models import Sequential\n",
    "from tensorflow.keras.layers import Dense\n",
    "\n",
    "scaler = MinMaxScaler()\n",
    "X_train = scaler.fit_transform(X_train)\n",
    "X_test = scaler.transform(X_test)\n",
    "\n",
    "X_train.shape #54 columns, so we need 54 neurons in the first layer.\n",
    "\n",
    "model = Sequential()\n",
    "model.add(Dense(units=54,activation='relu'))\n",
    "model.add(Dense(units=26,activation='relu'))\n",
    "model.add(Dense(units=1,activation='sigmoid'))\n",
    "\n",
    "from tensorflow.keras.callbacks import EarlyStopping\n",
    "early_stop = EarlyStopping(monitor='val_loss', mode='min', verbose=1, patience=25)\n",
    "\n",
    "\n",
    "### compile and fitting\n",
    "## for a binary classification problem\n",
    "model.compile(loss='binary_crossentropy', optimizer='adam')\n",
    "model.fit(x=X_train, y=y_train, epochs=300, validation_data=(X_test, y_test), verbose=1, batch_size=256, callbacks=[early_stop])"
   ]
  },
  {
   "cell_type": "markdown",
   "metadata": {},
   "source": [
    "Lets see the history for the loss and val_loss."
   ]
  },
  {
   "cell_type": "code",
   "execution_count": 43,
   "metadata": {},
   "outputs": [
    {
     "data": {
      "text/plain": [
       "<matplotlib.axes._subplots.AxesSubplot at 0x26f168343d0>"
      ]
     },
     "execution_count": 43,
     "metadata": {},
     "output_type": "execute_result"
    },
    {
     "data": {
      "image/png": "[encoded data removed]",
      "text/plain": [
       "<Figure size 432x288 with 1 Axes>"
      ]
     },
     "metadata": {},
     "output_type": "display_data"
    }
   ],
   "source": [
    "model_loss = pd.DataFrame(model.history.history)\n",
    "model_loss.plot()"
   ]
  },
  {
   "cell_type": "markdown",
   "metadata": {},
   "source": [
    "So we don't have a case for underfitting or overfitting. Let's now see the classification report:"
   ]
  },
  {
   "cell_type": "code",
   "execution_count": 46,
   "metadata": {},
   "outputs": [
    {
     "name": "stdout",
     "output_type": "stream",
     "text": [
      "              precision    recall  f1-score   support\n",
      "\n",
      "           0       0.97      0.44      0.61     14668\n",
      "           1       0.88      1.00      0.93     59471\n",
      "\n",
      "    accuracy                           0.89     74139\n",
      "   macro avg       0.92      0.72      0.77     74139\n",
      "weighted avg       0.90      0.89      0.87     74139\n",
      "\n"
     ]
    }
   ],
   "source": [
    "preds = (model.predict(X_test) > 0.5).astype(\"int32\")\n",
    "print(classification_report(y_test,preds))"
   ]
  },
  {
   "cell_type": "markdown",
   "metadata": {},
   "source": [
    "Unfortunely, we didn't achieved a significantly better recall metric. In a real-life situation, we could search that *models* list that we trained earlier and find which models have a good recall score - and then use said model or even a [Voting Classifier](https://scikit-learn.org/stable/modules/generated/sklearn.ensemble.VotingClassifier.html)."
   ]
  }
 ],
 "metadata": {
  "kernelspec": {
   "display_name": "Python 3 (Spyder)",
   "language": "python3",
   "name": "python3"
  },
  "language_info": {
   "codemirror_mode": {
    "name": "ipython",
    "version": 3
   },
   "file_extension": ".py",
   "mimetype": "text/x-python",
   "name": "python",
   "nbconvert_exporter": "python",
   "pygments_lexer": "ipython3",
   "version": "3.8.3"
  }
 },
 "nbformat": 4,
 "nbformat_minor": 4
}
